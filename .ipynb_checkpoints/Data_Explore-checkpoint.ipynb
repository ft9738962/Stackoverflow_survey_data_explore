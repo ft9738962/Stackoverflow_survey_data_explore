{
 "cells": [
  {
   "cell_type": "code",
   "execution_count": 1,
   "metadata": {},
   "outputs": [],
   "source": [
    "import numpy as np\n",
    "import pandas as pd\n",
    "import matplotlib.pyplot as plt\n",
    "import seaborn as sb\n",
    "from collections import defaultdict\n",
    "from adjustText import adjust_text\n",
    "%matplotlib inline"
   ]
  },
  {
   "cell_type": "markdown",
   "metadata": {},
   "source": [
    "## Purpose\n",
    "All data is from https://insights.stackoverflow.com/survey\n",
    "The purpose of the analysis of the data is to find out if it is still a good time to try getting a job in IT industry \n",
    "The data exploratory is to answer following questions:\n",
    "During recent 5 years (2014~2018)\n",
    "- Is IT developer amount saturated in IT industry well-developed country?\n",
    "- Is it faster developed in IT industry behindhand country?\n",
    "- Does gender ratio improve in IT industry?\n",
    "- What is the trend of occupation in the survey for referrence?\n",
    "- What is the trend of language in the survey for referrence?"
   ]
  },
  {
   "cell_type": "code",
   "execution_count": 2,
   "metadata": {
    "scrolled": true
   },
   "outputs": [
    {
     "name": "stderr",
     "output_type": "stream",
     "text": [
      "E:\\Program Files\\Anaconda3\\lib\\site-packages\\IPython\\core\\interactiveshell.py:2785: DtypeWarning: Columns (5,108,121,196,197,198) have mixed types. Specify dtype option on import or set low_memory=False.\n",
      "  interactivity=interactivity, compiler=compiler, result=result)\n",
      "E:\\Program Files\\Anaconda3\\lib\\site-packages\\IPython\\core\\interactiveshell.py:2785: DtypeWarning: Columns (8,12,13,14,15,16,50,51,52,53,55,56,57,58,59,60,61,62,63,64,65,66,67,68,69,70,71,72,73,74,75,76,77,78,79,80,81,82,83,84,85,93,94,95,96,97,98,99,100,101,102,103,104,105,106,107,108,109,110,111,112,113,114,115,116,117,118,119,120,121,122,123,124,125,126,127,128) have mixed types. Specify dtype option on import or set low_memory=False.\n",
      "  interactivity=interactivity, compiler=compiler, result=result)\n"
     ]
    }
   ],
   "source": [
    "#Load survey data\n",
    "sr2014 = pd.read_csv('../datasets/2014Responses.csv')\n",
    "sr2015 = pd.read_csv('../datasets/2015Responses.csv')\n",
    "sr2016 = pd.read_csv('../datasets/2016Responses.csv')\n",
    "sr2017 = pd.read_csv('../datasets/2017Responses.csv')\n",
    "sr2018 = pd.read_csv('../datasets/2018Responses.csv')"
   ]
  },
  {
   "cell_type": "code",
   "execution_count": 3,
   "metadata": {},
   "outputs": [],
   "source": [
    "#Get a review of the number of respondent in each year survey\n",
    "respondent = {}\n",
    "for i in np.arange(2014, 2019, 1):\n",
    "    respondent[i] = eval('sr'+str(i)).shape[0]\n",
    "\n",
    "rpdt_df = pd.DataFrame.from_dict(respondent, orient = 'index', columns = ['num_respondent'])"
   ]
  },
  {
   "cell_type": "code",
   "execution_count": 4,
   "metadata": {
    "scrolled": true
   },
   "outputs": [
    {
     "data": {
      "image/png": "[encoded data removed]",
      "text/plain": [
       "<Figure size 432x288 with 1 Axes>"
      ]
     },
     "metadata": {},
     "output_type": "display_data"
    }
   ],
   "source": [
    "x = rpdt_df.num_respondent.tolist()\n",
    "plt.bar(range(len(x)), x)\n",
    "plt.xticks(range(len(x)), rpdt_df.index)\n",
    "for i in range(len(x)):\n",
    "    plt.text(i-0.22, x[i]+800, x[i])\n",
    "plt.ylabel('Number of Respondent')\n",
    "plt.title('Respondent Number of the Stackoverflow Survey')\n",
    "plt.tight_layout()\n",
    "plt.savefig('./fig/Respndent')"
   ]
  },
  {
   "cell_type": "code",
   "execution_count": 5,
   "metadata": {
    "scrolled": true
   },
   "outputs": [
    {
     "data": {
      "image/png": "[encoded data removed]",
      "text/plain": [
       "<Figure size 432x288 with 1 Axes>"
      ]
     },
     "metadata": {},
     "output_type": "display_data"
    }
   ],
   "source": [
    "#Get a review of the number of respondent in each year survey\n",
    "respondent = {}\n",
    "for i in np.arange(2014, 2019, 1):\n",
    "    respondent[i] = eval('sr'+str(i)).shape[1]\n",
    "\n",
    "que_df = pd.DataFrame.from_dict(respondent, orient = 'index', columns = ['num_question'])\n",
    "\n",
    "x = que_df.num_question.tolist()\n",
    "plt.bar(range(len(x)), x)\n",
    "plt.xticks(range(len(x)), que_df.index)\n",
    "for i in range(len(x)):\n",
    "    plt.text(i-0.12, x[i]+2, x[i])\n",
    "plt.ylabel('Number of Question')\n",
    "plt.title('Question Number of the Stackoverflow Survey')\n",
    "plt.tight_layout()"
   ]
  },
  {
   "cell_type": "markdown",
   "metadata": {},
   "source": [
    "### Is IT developer amount saturated in IT industry well-developed country?\n",
    "The method to answer the question is to figure out the proportion of the "
   ]
  },
  {
   "cell_type": "code",
   "execution_count": 6,
   "metadata": {},
   "outputs": [],
   "source": [
    "# Get the country distribution ratio\n",
    "country_2014 = pd.DataFrame(sr2014['What Country do you live in?'].dropna()\n",
    "                            .value_counts()/ (len(sr2014['What Country do you live in?']) - \n",
    "                                                sr2014['What Country do you live in?'].isnull().sum()))\n",
    "country_2015 = pd.DataFrame(sr2015.Country.dropna()\n",
    "                            .value_counts()/ (len(sr2015.Country) - \n",
    "                                            sr2015.Country.isnull().sum()))\n",
    "country_2016 = pd.DataFrame(sr2016.country.dropna()\n",
    "                            .value_counts()/ (len(sr2016.country) - \n",
    "                                             sr2016.country.isnull().sum()))\n",
    "country_2017 = pd.DataFrame(sr2017.Country.dropna()\n",
    "                            .value_counts()/ (len(sr2017.Country) -\n",
    "                                             sr2017.Country.isnull().sum()))\n",
    "country_2018 = pd.DataFrame(sr2018.Country.dropna()\n",
    "                            .value_counts()/ (len(sr2018.Country) -\n",
    "                                             sr2018.Country.isnull().sum()))"
   ]
  },
  {
   "cell_type": "code",
   "execution_count": 7,
   "metadata": {},
   "outputs": [],
   "source": [
    "country_size = {}\n",
    "for i in np.arange(2014, 2019, 1):\n",
    "    country_size[i] = eval('country_'+str(i)).size\n",
    "\n",
    "country_size_df = pd.DataFrame.from_dict(country_size, orient = 'index', columns = ['country_size'])"
   ]
  },
  {
   "cell_type": "code",
   "execution_count": 8,
   "metadata": {},
   "outputs": [
    {
     "data": {
      "text/html": [
       "<div>\n",
       "<style scoped>\n",
       "    .dataframe tbody tr th:only-of-type {\n",
       "        vertical-align: middle;\n",
       "    }\n",
       "\n",
       "    .dataframe tbody tr th {\n",
       "        vertical-align: top;\n",
       "    }\n",
       "\n",
       "    .dataframe thead th {\n",
       "        text-align: right;\n",
       "    }\n",
       "</style>\n",
       "<table border=\"1\" class=\"dataframe\">\n",
       "  <thead>\n",
       "    <tr style=\"text-align: right;\">\n",
       "      <th></th>\n",
       "      <th>country_size</th>\n",
       "    </tr>\n",
       "  </thead>\n",
       "  <tbody>\n",
       "    <tr>\n",
       "      <th>2014</th>\n",
       "      <td>97</td>\n",
       "    </tr>\n",
       "    <tr>\n",
       "      <th>2015</th>\n",
       "      <td>156</td>\n",
       "    </tr>\n",
       "    <tr>\n",
       "      <th>2016</th>\n",
       "      <td>175</td>\n",
       "    </tr>\n",
       "    <tr>\n",
       "      <th>2017</th>\n",
       "      <td>201</td>\n",
       "    </tr>\n",
       "    <tr>\n",
       "      <th>2018</th>\n",
       "      <td>183</td>\n",
       "    </tr>\n",
       "  </tbody>\n",
       "</table>\n",
       "</div>"
      ],
      "text/plain": [
       "      country_size\n",
       "2014            97\n",
       "2015           156\n",
       "2016           175\n",
       "2017           201\n",
       "2018           183"
      ]
     },
     "execution_count": 8,
     "metadata": {},
     "output_type": "execute_result"
    }
   ],
   "source": [
    "country_size_df"
   ]
  },
  {
   "cell_type": "code",
   "execution_count": 9,
   "metadata": {
    "scrolled": true
   },
   "outputs": [
    {
     "data": {
      "image/png": "[encoded data removed]",
      "text/plain": [
       "<Figure size 432x288 with 1 Axes>"
      ]
     },
     "metadata": {},
     "output_type": "display_data"
    }
   ],
   "source": [
    "x = country_size_df.country_size.tolist()\n",
    "plt.bar(range(len(x)), x)\n",
    "plt.xticks(range(len(x)), country_size_df.index)\n",
    "for i in range(len(x)):\n",
    "    plt.text(i-0.12, x[i]+2, x[i])\n",
    "plt.ylabel('Number of Countries')\n",
    "plt.title('Number of Countries and Territories of Respondents')\n",
    "plt.tight_layout()"
   ]
  },
  {
   "cell_type": "markdown",
   "metadata": {},
   "source": [
    "#### Top 10 Countries Proportion"
   ]
  },
  {
   "cell_type": "code",
   "execution_count": 87,
   "metadata": {},
   "outputs": [],
   "source": [
    "def get_prop(num1, num2):\n",
    "    '''\n",
    "    The function is to get the sum of coumtries ranked from number 1 to number 2 proportion\n",
    "    \n",
    "    Input\n",
    "    num1: int, the start number of the country rank\n",
    "    num2: int, the end number of the country rank\n",
    "    \n",
    "    Output\n",
    "    temp_df —— pandas DataFrame with 1 column of the sum of proportion in 5 index from 2014 to 2018\n",
    "    \n",
    "    Eg. To get the the top 10, code 'get_prop(1, 10)'\n",
    "    Eg. To get the 11th to 30th country proportion, code 'get_prop(11, 30)'\n",
    "    '''\n",
    "    temp_dict = {}\n",
    "    for i in np.arange(2014, 2019):\n",
    "        temp_dict[i] = eval('country_'+str(i)+'.iloc['+str(num1-1)+':'+str(num2-1)+'].values.sum()')\n",
    "    temp_df = pd.DataFrame.from_dict(temp_dict, orient = 'index', columns = ['col'])\n",
    "    return temp_df"
   ]
  },
  {
   "cell_type": "code",
   "execution_count": 88,
   "metadata": {},
   "outputs": [],
   "source": [
    "def plot_bar(df):\n",
    "    '''\n",
    "    The function to draw barplot of the dataframe using from get_prop function\n",
    "    \n",
    "    Input\n",
    "    df: DataFrame created from get_prop function\n",
    "    \n",
    "    Eg. draw top 10 countries' total proportion in 2014 till 2018, code 'plot_bar(get_prop(1, 10))'   \n",
    "    '''\n",
    "    x = df.col.tolist()\n",
    "    plt.bar(range(len(x)), x)\n",
    "    plt.xticks(range(len(x)), df.index)\n",
    "    plt.tight_layout()"
   ]
  },
  {
   "cell_type": "code",
   "execution_count": 12,
   "metadata": {},
   "outputs": [
    {
     "data": {
      "text/html": [
       "<div>\n",
       "<style scoped>\n",
       "    .dataframe tbody tr th:only-of-type {\n",
       "        vertical-align: middle;\n",
       "    }\n",
       "\n",
       "    .dataframe tbody tr th {\n",
       "        vertical-align: top;\n",
       "    }\n",
       "\n",
       "    .dataframe thead th {\n",
       "        text-align: right;\n",
       "    }\n",
       "</style>\n",
       "<table border=\"1\" class=\"dataframe\">\n",
       "  <thead>\n",
       "    <tr style=\"text-align: right;\">\n",
       "      <th></th>\n",
       "      <th>col</th>\n",
       "    </tr>\n",
       "  </thead>\n",
       "  <tbody>\n",
       "    <tr>\n",
       "      <th>2014</th>\n",
       "      <td>0.696232</td>\n",
       "    </tr>\n",
       "    <tr>\n",
       "      <th>2015</th>\n",
       "      <td>0.629139</td>\n",
       "    </tr>\n",
       "    <tr>\n",
       "      <th>2016</th>\n",
       "      <td>0.643711</td>\n",
       "    </tr>\n",
       "    <tr>\n",
       "      <th>2017</th>\n",
       "      <td>0.644127</td>\n",
       "    </tr>\n",
       "    <tr>\n",
       "      <th>2018</th>\n",
       "      <td>0.631726</td>\n",
       "    </tr>\n",
       "  </tbody>\n",
       "</table>\n",
       "</div>"
      ],
      "text/plain": [
       "           col\n",
       "2014  0.696232\n",
       "2015  0.629139\n",
       "2016  0.643711\n",
       "2017  0.644127\n",
       "2018  0.631726"
      ]
     },
     "execution_count": 12,
     "metadata": {},
     "output_type": "execute_result"
    }
   ],
   "source": [
    "top_10_prop = get_prop(1, 10)\n",
    "top_10_prop"
   ]
  },
  {
   "cell_type": "code",
   "execution_count": 90,
   "metadata": {
    "scrolled": true
   },
   "outputs": [
    {
     "data": {
      "image/png": "[encoded data removed]",
      "text/plain": [
       "<Figure size 432x288 with 1 Axes>"
      ]
     },
     "metadata": {},
     "output_type": "display_data"
    }
   ],
   "source": [
    "plot_bar(top_10_prop)\n",
    "v = top_10_prop.col.tolist()\n",
    "for i in range(5):\n",
    "    plt.text(i-0.15, v[i]+0.005, '{:.2f}'.format(v[i]))\n",
    "plt.ylabel('Percentage')\n",
    "plt.title('Proportion of top 10 countires')\n",
    "plt.savefig('./fig/prop_10')"
   ]
  },
  {
   "cell_type": "code",
   "execution_count": null,
   "metadata": {},
   "outputs": [],
   "source": [
    "top_10 = country_2014.iloc[:10].join([country_2015.iloc[:10], country_2016.iloc[:10], country_2017.iloc[:10], country_2018.iloc[:10]])"
   ]
  },
  {
   "cell_type": "code",
   "execution_count": 14,
   "metadata": {
    "scrolled": true
   },
   "outputs": [
    {
     "data": {
      "text/html": [
       "<div>\n",
       "<style scoped>\n",
       "    .dataframe tbody tr th:only-of-type {\n",
       "        vertical-align: middle;\n",
       "    }\n",
       "\n",
       "    .dataframe tbody tr th {\n",
       "        vertical-align: top;\n",
       "    }\n",
       "\n",
       "    .dataframe thead th {\n",
       "        text-align: right;\n",
       "    }\n",
       "</style>\n",
       "<table border=\"1\" class=\"dataframe\">\n",
       "  <thead>\n",
       "    <tr style=\"text-align: right;\">\n",
       "      <th></th>\n",
       "      <th>col</th>\n",
       "    </tr>\n",
       "  </thead>\n",
       "  <tbody>\n",
       "    <tr>\n",
       "      <th>2014</th>\n",
       "      <td>0.164835</td>\n",
       "    </tr>\n",
       "    <tr>\n",
       "      <th>2015</th>\n",
       "      <td>0.206970</td>\n",
       "    </tr>\n",
       "    <tr>\n",
       "      <th>2016</th>\n",
       "      <td>0.205554</td>\n",
       "    </tr>\n",
       "    <tr>\n",
       "      <th>2017</th>\n",
       "      <td>0.173393</td>\n",
       "    </tr>\n",
       "    <tr>\n",
       "      <th>2018</th>\n",
       "      <td>0.185214</td>\n",
       "    </tr>\n",
       "  </tbody>\n",
       "</table>\n",
       "</div>"
      ],
      "text/plain": [
       "           col\n",
       "2014  0.164835\n",
       "2015  0.206970\n",
       "2016  0.205554\n",
       "2017  0.173393\n",
       "2018  0.185214"
      ]
     },
     "execution_count": 14,
     "metadata": {},
     "output_type": "execute_result"
    }
   ],
   "source": [
    "top_11_30_prop = get_stats('iloc[11:30].values.sum()')\n",
    "top_11_30_prop"
   ]
  },
  {
   "cell_type": "code",
   "execution_count": 60,
   "metadata": {
    "scrolled": true
   },
   "outputs": [
    {
     "data": {
      "image/png": "[encoded data removed]",
      "text/plain": [
       "<Figure size 432x288 with 1 Axes>"
      ]
     },
     "metadata": {},
     "output_type": "display_data"
    }
   ],
   "source": [
    "plot_bar(top_11_30_prop)\n",
    "v = top_11_30_prop.col.tolist()\n",
    "for i in range(5):\n",
    "    plt.text(i-0.15, v[i]+0.001, '{:.2f}'.format(v[i]))\n",
    "plt.ylabel('Percentage')\n",
    "plt.title('Proportion of 11 to 30 countires')\n",
    "plt.savefig('./fig/prop_11_30')"
   ]
  },
  {
   "cell_type": "markdown",
   "metadata": {},
   "source": []
  },
  {
   "cell_type": "code",
   "execution_count": 17,
   "metadata": {},
   "outputs": [],
   "source": [
    "# Get the gender ratio\n",
    "gender2014 = pd.DataFrame(sr2014['What is your gender?'].dropna()\n",
    "                            .value_counts()/ (len(sr2014['What is your gender?']) - \n",
    "                                                sr2014['What is your gender?'].isnull().sum()), columns =['2014'])\n",
    "gender2015 = pd.DataFrame(sr2015.Gender.dropna()\n",
    "                            .value_counts()/ (len(sr2015.Gender) - \n",
    "                                            sr2015.Gender.isnull().sum()), columns =['2015'])\n",
    "gender2016 = pd.DataFrame(sr2016.gender.dropna()\n",
    "                            .value_counts()/ (len(sr2016.gender) - \n",
    "                                             sr2016.gender.isnull().sum()), columns =['2016'])\n",
    "gender2017 = pd.DataFrame(sr2017.Gender.dropna()\n",
    "                            .value_counts()/ (len(sr2017.Gender) -\n",
    "                                             sr2017.Gender.isnull().sum()), columns =['2017'])\n",
    "gender2018 = pd.DataFrame(sr2018.Gender.dropna()\n",
    "                            .value_counts()/ (len(sr2018.Gender) -\n",
    "                                             sr2018.Gender.isnull().sum()), columns =['2018'])"
   ]
  },
  {
   "cell_type": "code",
   "execution_count": null,
   "metadata": {},
   "outputs": [],
   "source": []
  },
  {
   "cell_type": "code",
   "execution_count": 18,
   "metadata": {},
   "outputs": [
    {
     "data": {
      "text/html": [
       "<div>\n",
       "<style scoped>\n",
       "    .dataframe tbody tr th:only-of-type {\n",
       "        vertical-align: middle;\n",
       "    }\n",
       "\n",
       "    .dataframe tbody tr th {\n",
       "        vertical-align: top;\n",
       "    }\n",
       "\n",
       "    .dataframe thead th {\n",
       "        text-align: right;\n",
       "    }\n",
       "</style>\n",
       "<table border=\"1\" class=\"dataframe\">\n",
       "  <thead>\n",
       "    <tr style=\"text-align: right;\">\n",
       "      <th></th>\n",
       "      <th>2014</th>\n",
       "    </tr>\n",
       "  </thead>\n",
       "  <tbody>\n",
       "  </tbody>\n",
       "</table>\n",
       "</div>"
      ],
      "text/plain": [
       "Empty DataFrame\n",
       "Columns: [2014]\n",
       "Index: []"
      ]
     },
     "execution_count": 18,
     "metadata": {},
     "output_type": "execute_result"
    }
   ],
   "source": [
    "gender2014"
   ]
  },
  {
   "cell_type": "code",
   "execution_count": 19,
   "metadata": {},
   "outputs": [
    {
     "data": {
      "text/html": [
       "<div>\n",
       "<style scoped>\n",
       "    .dataframe tbody tr th:only-of-type {\n",
       "        vertical-align: middle;\n",
       "    }\n",
       "\n",
       "    .dataframe tbody tr th {\n",
       "        vertical-align: top;\n",
       "    }\n",
       "\n",
       "    .dataframe thead th {\n",
       "        text-align: right;\n",
       "    }\n",
       "</style>\n",
       "<table border=\"1\" class=\"dataframe\">\n",
       "  <thead>\n",
       "    <tr style=\"text-align: right;\">\n",
       "      <th></th>\n",
       "      <th>2014</th>\n",
       "      <th>2015</th>\n",
       "      <th>2016</th>\n",
       "      <th>2017</th>\n",
       "      <th>2018</th>\n",
       "    </tr>\n",
       "  </thead>\n",
       "  <tbody>\n",
       "  </tbody>\n",
       "</table>\n",
       "</div>"
      ],
      "text/plain": [
       "Empty DataFrame\n",
       "Columns: [2014, 2015, 2016, 2017, 2018]\n",
       "Index: []"
      ]
     },
     "execution_count": 19,
     "metadata": {},
     "output_type": "execute_result"
    }
   ],
   "source": [
    "gender = gender2014.join([gender2015, gender2016, gender2017, gender2018], how = 'outer', sort = False)\n",
    "gender"
   ]
  },
  {
   "cell_type": "markdown",
   "metadata": {},
   "source": [
    "## To investigate what is the most popular occupation in 2018 survey"
   ]
  },
  {
   "cell_type": "markdown",
   "metadata": {},
   "source": [
    "## Get the occupation ratio\n",
    "In each year survey, the question and options under occupation always have some slight difference.\n",
    "To get the general trend of the different developer field, only web developer, mobile developer and data analyst (or scientist) will be compared at first.\n",
    "Front-end, Back-end, Full-stack developer will be combined into web developer.\n",
    "IOS, Android and Windows Phone developer will be combined into mobile developer.\n",
    "Data related job, such as business analyst, machine learning specialist will be combined into data analyst or scientist.\n",
    "So the final result will only include the ratio of web, developer, mobile developer, data analyst or scientis, student and others."
   ]
  },
  {
   "cell_type": "code",
   "execution_count": 20,
   "metadata": {},
   "outputs": [],
   "source": [
    "sr2014_occ = sr2014['Which of the following best describes your occupation?'].dropna().replace(['Full-Stack Web Developer', \n",
    "                                                 'Back-End Web Developer', 'Front-End Web Developer'], 'Web developer')\n",
    "sr2014_occ = sr2014_occ.replace(['Mobile Application Developer'], 'Mobile developer')\n",
    "for i in range(len(sr2014_occ)):\n",
    "    if sr2014_occ.iloc[i] not in ['Web developer', 'Mobile developer', 'Student']:\n",
    "        sr2014_occ.iloc[i] = 'Other'\n",
    "\n",
    "occ2014 = pd.DataFrame(sr2014_occ.value_counts().values, index = sr2014_occ.value_counts().index, columns = ['col'])\n",
    "occ2014['2014ratio'] = occ2014.col / len(sr2014_occ)\n",
    "occ2014.drop('col', axis = 1, inplace = True)"
   ]
  },
  {
   "cell_type": "code",
   "execution_count": 21,
   "metadata": {},
   "outputs": [
    {
     "data": {
      "text/html": [
       "<div>\n",
       "<style scoped>\n",
       "    .dataframe tbody tr th:only-of-type {\n",
       "        vertical-align: middle;\n",
       "    }\n",
       "\n",
       "    .dataframe tbody tr th {\n",
       "        vertical-align: top;\n",
       "    }\n",
       "\n",
       "    .dataframe thead th {\n",
       "        text-align: right;\n",
       "    }\n",
       "</style>\n",
       "<table border=\"1\" class=\"dataframe\">\n",
       "  <thead>\n",
       "    <tr style=\"text-align: right;\">\n",
       "      <th></th>\n",
       "      <th>2014ratio</th>\n",
       "    </tr>\n",
       "  </thead>\n",
       "  <tbody>\n",
       "    <tr>\n",
       "      <th>Web developer</th>\n",
       "      <td>0.416633</td>\n",
       "    </tr>\n",
       "    <tr>\n",
       "      <th>Other</th>\n",
       "      <td>0.365183</td>\n",
       "    </tr>\n",
       "    <tr>\n",
       "      <th>Student</th>\n",
       "      <td>0.139377</td>\n",
       "    </tr>\n",
       "    <tr>\n",
       "      <th>Mobile developer</th>\n",
       "      <td>0.078808</td>\n",
       "    </tr>\n",
       "  </tbody>\n",
       "</table>\n",
       "</div>"
      ],
      "text/plain": [
       "                  2014ratio\n",
       "Web developer      0.416633\n",
       "Other              0.365183\n",
       "Student            0.139377\n",
       "Mobile developer   0.078808"
      ]
     },
     "execution_count": 21,
     "metadata": {},
     "output_type": "execute_result"
    }
   ],
   "source": [
    "occ2014"
   ]
  },
  {
   "cell_type": "code",
   "execution_count": 22,
   "metadata": {},
   "outputs": [],
   "source": [
    "sr2015_occ = sr2015.Occupation.dropna().replace(['Full-stack web developer', \n",
    "                                                 'Back-end web developer', 'Front-end web developer'], 'Web developer')\n",
    "sr2015_occ = sr2015_occ.replace(['Mobile developer - iOS', 'Mobile developer - Android',\n",
    "                                'Mobile developer - Windows Phone'], 'Mobile developer')\n",
    "sr2015_occ = sr2015_occ.replace(['Developer with a statistics or mathematics background',\n",
    "                                'Analyst', 'Data scientist', 'Business intelligence or data warehousing expert', \n",
    "                                 'Machine learning developer'], 'Data analyst or scientist')\n",
    "for i in range(len(sr2015_occ)):\n",
    "    if sr2015_occ.iloc[i] not in ['Web developer', 'Mobile developer', 'Data analyst or scientist', 'Student']:\n",
    "        sr2015_occ.iloc[i] = 'Other'\n",
    "\n",
    "occ2015 = pd.DataFrame(sr2015_occ.value_counts().values, index = sr2015_occ.value_counts().index, columns = ['col'])\n",
    "occ2015['2015ratio'] = occ2015.col / len(sr2015_occ)\n",
    "occ2015.drop('col', axis = 1, inplace = True)"
   ]
  },
  {
   "cell_type": "code",
   "execution_count": 23,
   "metadata": {},
   "outputs": [
    {
     "data": {
      "text/html": [
       "<div>\n",
       "<style scoped>\n",
       "    .dataframe tbody tr th:only-of-type {\n",
       "        vertical-align: middle;\n",
       "    }\n",
       "\n",
       "    .dataframe tbody tr th {\n",
       "        vertical-align: top;\n",
       "    }\n",
       "\n",
       "    .dataframe thead th {\n",
       "        text-align: right;\n",
       "    }\n",
       "</style>\n",
       "<table border=\"1\" class=\"dataframe\">\n",
       "  <thead>\n",
       "    <tr style=\"text-align: right;\">\n",
       "      <th></th>\n",
       "      <th>2015ratio</th>\n",
       "    </tr>\n",
       "  </thead>\n",
       "  <tbody>\n",
       "    <tr>\n",
       "      <th>Web developer</th>\n",
       "      <td>0.484917</td>\n",
       "    </tr>\n",
       "    <tr>\n",
       "      <th>Other</th>\n",
       "      <td>0.230109</td>\n",
       "    </tr>\n",
       "    <tr>\n",
       "      <th>Student</th>\n",
       "      <td>0.136444</td>\n",
       "    </tr>\n",
       "    <tr>\n",
       "      <th>Mobile developer</th>\n",
       "      <td>0.091123</td>\n",
       "    </tr>\n",
       "    <tr>\n",
       "      <th>Data analyst or scientist</th>\n",
       "      <td>0.057407</td>\n",
       "    </tr>\n",
       "  </tbody>\n",
       "</table>\n",
       "</div>"
      ],
      "text/plain": [
       "                           2015ratio\n",
       "Web developer               0.484917\n",
       "Other                       0.230109\n",
       "Student                     0.136444\n",
       "Mobile developer            0.091123\n",
       "Data analyst or scientist   0.057407"
      ]
     },
     "execution_count": 23,
     "metadata": {},
     "output_type": "execute_result"
    }
   ],
   "source": [
    "occ2015"
   ]
  },
  {
   "cell_type": "code",
   "execution_count": 24,
   "metadata": {},
   "outputs": [],
   "source": [
    "sr2016_occ = sr2016.occupation.dropna().replace(['Full-stack web developer', \n",
    "                                                 'Back-end web developer', 'Front-end web developer'], 'Web developer')\n",
    "sr2016_occ = sr2016_occ.replace(['Mobile developer - iOS', 'Mobile developer - Android',\n",
    "                                'Mobile developer - Windows Phone'], 'Mobile developer')\n",
    "sr2016_occ = sr2016_occ.replace(['Developer with a statistics or mathematics background',\n",
    "                                'Analyst', 'Data scientist', 'Machine learning specialist',\n",
    "                                'Business intelligence or data warehousing expert', \n",
    "                                 'Machine learning developer'], 'Data analyst or scientist')\n",
    "for i in range(len(sr2016_occ)):\n",
    "    if sr2016_occ.iloc[i] not in ['Web developer', 'Mobile developer', 'Data analyst or scientist', 'Student']:\n",
    "        sr2016_occ.iloc[i] = 'Other'\n",
    "\n",
    "occ2016 = pd.DataFrame(sr2016_occ.value_counts().values, index = sr2016_occ.value_counts().index, columns = ['col'])\n",
    "occ2016['2016ratio'] = occ2016.col / len(sr2016_occ)\n",
    "occ2016.drop('col', axis = 1, inplace = True)"
   ]
  },
  {
   "cell_type": "code",
   "execution_count": 25,
   "metadata": {},
   "outputs": [
    {
     "data": {
      "text/html": [
       "<div>\n",
       "<style scoped>\n",
       "    .dataframe tbody tr th:only-of-type {\n",
       "        vertical-align: middle;\n",
       "    }\n",
       "\n",
       "    .dataframe tbody tr th {\n",
       "        vertical-align: top;\n",
       "    }\n",
       "\n",
       "    .dataframe thead th {\n",
       "        text-align: right;\n",
       "    }\n",
       "</style>\n",
       "<table border=\"1\" class=\"dataframe\">\n",
       "  <thead>\n",
       "    <tr style=\"text-align: right;\">\n",
       "      <th></th>\n",
       "      <th>2016ratio</th>\n",
       "    </tr>\n",
       "  </thead>\n",
       "  <tbody>\n",
       "    <tr>\n",
       "      <th>Web developer</th>\n",
       "      <td>0.460833</td>\n",
       "    </tr>\n",
       "    <tr>\n",
       "      <th>Other</th>\n",
       "      <td>0.279368</td>\n",
       "    </tr>\n",
       "    <tr>\n",
       "      <th>Student</th>\n",
       "      <td>0.113472</td>\n",
       "    </tr>\n",
       "    <tr>\n",
       "      <th>Mobile developer</th>\n",
       "      <td>0.083584</td>\n",
       "    </tr>\n",
       "    <tr>\n",
       "      <th>Data analyst or scientist</th>\n",
       "      <td>0.062744</td>\n",
       "    </tr>\n",
       "  </tbody>\n",
       "</table>\n",
       "</div>"
      ],
      "text/plain": [
       "                           2016ratio\n",
       "Web developer               0.460833\n",
       "Other                       0.279368\n",
       "Student                     0.113472\n",
       "Mobile developer            0.083584\n",
       "Data analyst or scientist   0.062744"
      ]
     },
     "execution_count": 25,
     "metadata": {},
     "output_type": "execute_result"
    }
   ],
   "source": [
    "occ2016"
   ]
  },
  {
   "cell_type": "markdown",
   "metadata": {},
   "source": [
    "#### In 2017 Survey, it has a change compared to 2014~2016, student type is included in another column 'Professional'\n",
    "##### But some respondent who pick 'Studeht' in 'Professional' also take multiple develop types in 'DeveloperType'\n",
    "#### As we want to collect data reflecting status of the job market, we use 'Student' to present the developer type as it was in 2014~2016"
   ]
  },
  {
   "cell_type": "code",
   "execution_count": 26,
   "metadata": {},
   "outputs": [],
   "source": [
    "for i in range(len(sr2017['DeveloperType'])):\n",
    "    if sr2017.loc[i, 'Professional'] == 'Student':\n",
    "        sr2017.loc[i, 'DeveloperType'] = 'Student'\n",
    "    else:\n",
    "        continue"
   ]
  },
  {
   "cell_type": "code",
   "execution_count": 27,
   "metadata": {},
   "outputs": [],
   "source": [
    "dev_count2017 = defaultdict(int)\n",
    "for i in sr2017.DeveloperType.dropna():\n",
    "    typ = i.split(sep='; ')\n",
    "    if 'Student' in typ:\n",
    "        typ = ['Student'] #The job interest for a student is not contained in this count\n",
    "    if 'Developer with a statistics or mathematics background' in typ or 'Data scientist' in typ or 'Machine learning specialist' in typ:\n",
    "        try:\n",
    "            typ.remove('Developer with a statistics or mathematics background')\n",
    "        except:\n",
    "            pass\n",
    "        try:\n",
    "            typ.remove('Data scientist')\n",
    "        except:\n",
    "            pass\n",
    "        try:\n",
    "            typ.remove('Machine learning specialist')\n",
    "        except:\n",
    "            pass\n",
    "        typ.append('Data analyst or scientist')\n",
    "        \n",
    "    del_num = []\n",
    "    for j in range(len(typ)):\n",
    "        if typ[j] not in ['Data analyst or scientist', 'Web developer', 'Mobile developer', 'Student', 'Other']:\n",
    "            del_num.append(j)\n",
    "    for k in del_num:\n",
    "        typ[k] = 'Other'\n",
    "    for l in list(set(typ)):\n",
    "        dev_count2017[l] += 1\n",
    "occ2017 = pd.DataFrame.from_dict(dev_count2017, orient = 'index', columns = ['col'])\n",
    "occ2017.sort_values(by = ['col'], ascending = False,  inplace = True)\n",
    "occ2017['2017ratio'] = occ2017.col / len(sr2017.DeveloperType.dropna())\n",
    "occ2017.drop('col', axis = 1, inplace = True)"
   ]
  },
  {
   "cell_type": "code",
   "execution_count": 28,
   "metadata": {},
   "outputs": [
    {
     "data": {
      "text/html": [
       "<div>\n",
       "<style scoped>\n",
       "    .dataframe tbody tr th:only-of-type {\n",
       "        vertical-align: middle;\n",
       "    }\n",
       "\n",
       "    .dataframe tbody tr th {\n",
       "        vertical-align: top;\n",
       "    }\n",
       "\n",
       "    .dataframe thead th {\n",
       "        text-align: right;\n",
       "    }\n",
       "</style>\n",
       "<table border=\"1\" class=\"dataframe\">\n",
       "  <thead>\n",
       "    <tr style=\"text-align: right;\">\n",
       "      <th></th>\n",
       "      <th>2017ratio</th>\n",
       "    </tr>\n",
       "  </thead>\n",
       "  <tbody>\n",
       "    <tr>\n",
       "      <th>Web developer</th>\n",
       "      <td>0.591562</td>\n",
       "    </tr>\n",
       "    <tr>\n",
       "      <th>Other</th>\n",
       "      <td>0.453830</td>\n",
       "    </tr>\n",
       "    <tr>\n",
       "      <th>Mobile developer</th>\n",
       "      <td>0.187747</td>\n",
       "    </tr>\n",
       "    <tr>\n",
       "      <th>Student</th>\n",
       "      <td>0.185447</td>\n",
       "    </tr>\n",
       "    <tr>\n",
       "      <th>Data analyst or scientist</th>\n",
       "      <td>0.143257</td>\n",
       "    </tr>\n",
       "  </tbody>\n",
       "</table>\n",
       "</div>"
      ],
      "text/plain": [
       "                           2017ratio\n",
       "Web developer               0.591562\n",
       "Other                       0.453830\n",
       "Mobile developer            0.187747\n",
       "Student                     0.185447\n",
       "Data analyst or scientist   0.143257"
      ]
     },
     "execution_count": 28,
     "metadata": {},
     "output_type": "execute_result"
    }
   ],
   "source": [
    "occ2017"
   ]
  },
  {
   "cell_type": "code",
   "execution_count": 29,
   "metadata": {},
   "outputs": [],
   "source": [
    "dev_count2018 = defaultdict(int)\n",
    "for i in sr2018.DevType.dropna():\n",
    "    typ = i.split(sep=';')\n",
    "    if 'Full-stack developer' in typ or 'Back-end developer' in typ or 'Front-end developer' in typ:\n",
    "        try:\n",
    "            typ.remove('Back-end developer')\n",
    "        except:\n",
    "            pass\n",
    "        try:\n",
    "            typ.remove('Front-end developer')\n",
    "        except:\n",
    "            pass\n",
    "        try:\n",
    "            typ.remove('Full-stack developer')\n",
    "        except:\n",
    "            pass\n",
    "        typ.append('Web developer')\n",
    "    if 'Data or business analyst' in typ or 'Data scientist or machine learning specialist' in typ:\n",
    "        try:\n",
    "            typ.remove('Data or business analyst')\n",
    "        except:\n",
    "            pass\n",
    "        try:\n",
    "            typ.remove('Data scientist or machine learning specialist')\n",
    "        except:\n",
    "            pass\n",
    "        typ.append('Data analyst or scientist')\n",
    "    if 'Student' in typ:\n",
    "        typ = ['Student'] #The job interest for a student is not contained in this count\n",
    "        \n",
    "    del_num = []\n",
    "    for j in range(len(typ)):\n",
    "        if typ[j] not in ['Data analyst or scientist', 'Web developer', 'Mobile developer', 'Student', 'Other']:\n",
    "            del_num.append(j)\n",
    "    for k in del_num:\n",
    "        typ[k] = 'Other'\n",
    "    for l in list(set(typ)):\n",
    "        dev_count2018[l] += 1\n",
    "        \n",
    "occ2018 = pd.DataFrame.from_dict(dev_count2018, orient = 'index', columns = ['col'])\n",
    "occ2018.sort_values(by = ['col'], ascending = False,  inplace = True)\n",
    "occ2018['2018ratio'] = occ2018.col / len(sr2018.DevType.dropna())\n",
    "occ2018.drop('col', axis = 1, inplace = True)"
   ]
  },
  {
   "cell_type": "code",
   "execution_count": 30,
   "metadata": {},
   "outputs": [
    {
     "data": {
      "text/html": [
       "<div>\n",
       "<style scoped>\n",
       "    .dataframe tbody tr th:only-of-type {\n",
       "        vertical-align: middle;\n",
       "    }\n",
       "\n",
       "    .dataframe tbody tr th {\n",
       "        vertical-align: top;\n",
       "    }\n",
       "\n",
       "    .dataframe thead th {\n",
       "        text-align: right;\n",
       "    }\n",
       "</style>\n",
       "<table border=\"1\" class=\"dataframe\">\n",
       "  <thead>\n",
       "    <tr style=\"text-align: right;\">\n",
       "      <th></th>\n",
       "      <th>2018ratio</th>\n",
       "    </tr>\n",
       "  </thead>\n",
       "  <tbody>\n",
       "    <tr>\n",
       "      <th>Web developer</th>\n",
       "      <td>0.678842</td>\n",
       "    </tr>\n",
       "    <tr>\n",
       "      <th>Other</th>\n",
       "      <td>0.445395</td>\n",
       "    </tr>\n",
       "    <tr>\n",
       "      <th>Student</th>\n",
       "      <td>0.170818</td>\n",
       "    </tr>\n",
       "    <tr>\n",
       "      <th>Mobile developer</th>\n",
       "      <td>0.164575</td>\n",
       "    </tr>\n",
       "    <tr>\n",
       "      <th>Data analyst or scientist</th>\n",
       "      <td>0.109090</td>\n",
       "    </tr>\n",
       "  </tbody>\n",
       "</table>\n",
       "</div>"
      ],
      "text/plain": [
       "                           2018ratio\n",
       "Web developer               0.678842\n",
       "Other                       0.445395\n",
       "Student                     0.170818\n",
       "Mobile developer            0.164575\n",
       "Data analyst or scientist   0.109090"
      ]
     },
     "execution_count": 30,
     "metadata": {},
     "output_type": "execute_result"
    }
   ],
   "source": [
    "occ2018"
   ]
  },
  {
   "cell_type": "code",
   "execution_count": 31,
   "metadata": {},
   "outputs": [
    {
     "name": "stderr",
     "output_type": "stream",
     "text": [
      "E:\\Program Files\\Anaconda3\\lib\\site-packages\\pandas\\core\\frame.py:6359: FutureWarning: Sorting because non-concatenation axis is not aligned. A future version\n",
      "of pandas will change to not sort by default.\n",
      "\n",
      "To accept the future behavior, pass 'sort=True'.\n",
      "\n",
      "To retain the current behavior and silence the warning, pass sort=False\n",
      "\n",
      "  verify_integrity=True)\n"
     ]
    },
    {
     "data": {
      "text/html": [
       "<div>\n",
       "<style scoped>\n",
       "    .dataframe tbody tr th:only-of-type {\n",
       "        vertical-align: middle;\n",
       "    }\n",
       "\n",
       "    .dataframe tbody tr th {\n",
       "        vertical-align: top;\n",
       "    }\n",
       "\n",
       "    .dataframe thead th {\n",
       "        text-align: right;\n",
       "    }\n",
       "</style>\n",
       "<table border=\"1\" class=\"dataframe\">\n",
       "  <thead>\n",
       "    <tr style=\"text-align: right;\">\n",
       "      <th></th>\n",
       "      <th>Web developer</th>\n",
       "      <th>Mobile developer</th>\n",
       "      <th>Data analyst or scientist</th>\n",
       "      <th>Other</th>\n",
       "      <th>Student</th>\n",
       "    </tr>\n",
       "  </thead>\n",
       "  <tbody>\n",
       "    <tr>\n",
       "      <th>2014</th>\n",
       "      <td>0.416633</td>\n",
       "      <td>0.078808</td>\n",
       "      <td>0.000000</td>\n",
       "      <td>0.365183</td>\n",
       "      <td>0.139377</td>\n",
       "    </tr>\n",
       "    <tr>\n",
       "      <th>2015</th>\n",
       "      <td>0.484917</td>\n",
       "      <td>0.091123</td>\n",
       "      <td>0.057407</td>\n",
       "      <td>0.230109</td>\n",
       "      <td>0.136444</td>\n",
       "    </tr>\n",
       "    <tr>\n",
       "      <th>2016</th>\n",
       "      <td>0.460833</td>\n",
       "      <td>0.083584</td>\n",
       "      <td>0.062744</td>\n",
       "      <td>0.279368</td>\n",
       "      <td>0.113472</td>\n",
       "    </tr>\n",
       "    <tr>\n",
       "      <th>2017</th>\n",
       "      <td>0.591562</td>\n",
       "      <td>0.187747</td>\n",
       "      <td>0.143257</td>\n",
       "      <td>0.453830</td>\n",
       "      <td>0.185447</td>\n",
       "    </tr>\n",
       "    <tr>\n",
       "      <th>2018</th>\n",
       "      <td>0.678842</td>\n",
       "      <td>0.164575</td>\n",
       "      <td>0.109090</td>\n",
       "      <td>0.445395</td>\n",
       "      <td>0.170818</td>\n",
       "    </tr>\n",
       "  </tbody>\n",
       "</table>\n",
       "</div>"
      ],
      "text/plain": [
       "      Web developer  Mobile developer  Data analyst or scientist     Other  \\\n",
       "2014       0.416633          0.078808                   0.000000  0.365183   \n",
       "2015       0.484917          0.091123                   0.057407  0.230109   \n",
       "2016       0.460833          0.083584                   0.062744  0.279368   \n",
       "2017       0.591562          0.187747                   0.143257  0.453830   \n",
       "2018       0.678842          0.164575                   0.109090  0.445395   \n",
       "\n",
       "       Student  \n",
       "2014  0.139377  \n",
       "2015  0.136444  \n",
       "2016  0.113472  \n",
       "2017  0.185447  \n",
       "2018  0.170818  "
      ]
     },
     "execution_count": 31,
     "metadata": {},
     "output_type": "execute_result"
    }
   ],
   "source": [
    "occ_compare = occ2014.join([occ2015, occ2016, occ2017, occ2018], how = 'outer', sort = False)\n",
    "occ_compare.columns = ['2014', '2015', '2016', '2017', '2018']\n",
    "occ_compare.fillna(0, inplace = True)\n",
    "occ_compare = occ_compare.T\n",
    "occ_compare = occ_compare[['Web developer', 'Mobile developer', 'Data analyst or scientist', 'Other', 'Student']]\n",
    "occ_compare"
   ]
  },
  {
   "cell_type": "code",
   "execution_count": 32,
   "metadata": {},
   "outputs": [
    {
     "data": {
      "text/plain": [
       "0.05740731859383243"
      ]
     },
     "execution_count": 32,
     "metadata": {},
     "output_type": "execute_result"
    }
   ],
   "source": [
    "occ_compare.iloc[1,2]"
   ]
  },
  {
   "cell_type": "code",
   "execution_count": 78,
   "metadata": {
    "scrolled": false
   },
   "outputs": [
    {
     "data": {
      "image/png": "[encoded data removed]",
      "text/plain": [
       "<Figure size 1080x288 with 5 Axes>"
      ]
     },
     "metadata": {},
     "output_type": "display_data"
    }
   ],
   "source": [
    "col = occ_compare.columns\n",
    "x = occ_compare.index\n",
    "\n",
    "fig, (ax1, ax2, ax3, ax4, ax5) = plt.subplots(1, 5, figsize = [15, 4], sharey = True)\n",
    "y = [ax1, ax2, ax3, ax4, ax5]\n",
    "\n",
    "for i in range(5):\n",
    "    y[i].bar(range(5), occ_compare.iloc[:, i], width = 0.5)\n",
    "    y[i].set_xticks(range(5))\n",
    "    y[i].set_xticklabels(x)\n",
    "    y[i].set_xlabel(col[i])\n",
    "    for j in range(5):\n",
    "        y[i].text(j-0.35, occ_compare.iloc[j, i]+0.005, '{:0.2f}'.format(occ_compare.iloc[j, i]))\n",
    "fig.suptitle('Percentage of Occupation in Stackflow Survey')\n",
    "plt.subplots_adjust(left=0.1, right=0.9, top=0.9, bottom=0.1, wspace = 0.1)\n",
    "plt.savefig('./fig/PercentOcc')"
   ]
  },
  {
   "cell_type": "code",
   "execution_count": 34,
   "metadata": {},
   "outputs": [],
   "source": [
    "worked_lang_2017 = defaultdict(int) \n",
    "for i in sr2017['HaveWorkedLanguage'].dropna():\n",
    "    lang = i.split('; ')\n",
    "    for j in lang:\n",
    "        worked_lang_2017[j] += 1\n",
    "\n",
    "worked_lang_2017\n",
    "w_lan_2017 = pd.DataFrame.from_dict(worked_lang_2017, orient = 'index', columns = ['col'])\n",
    "w_lan_2017.sort_values(by = ['col'], ascending = False,  inplace = True)\n",
    "w_lan_2017['2017'] = w_lan_2017.col / len(sr2017['HaveWorkedLanguage'].dropna())\n",
    "w_lan_2017.drop('col', axis = 1, inplace = True)"
   ]
  },
  {
   "cell_type": "code",
   "execution_count": 35,
   "metadata": {},
   "outputs": [],
   "source": [
    "worked_lang_2016 = defaultdict(int) \n",
    "for i in sr2016.tech_do.dropna():\n",
    "    lang = i.split('; ')\n",
    "    for j in lang:\n",
    "        worked_lang_2016[j] += 1\n",
    "\n",
    "worked_lang_2016\n",
    "w_lan_2016 = pd.DataFrame.from_dict(worked_lang_2016, orient = 'index', columns = ['col'])\n",
    "w_lan_2016.sort_values(by = ['col'], ascending = False,  inplace = True)\n",
    "w_lan_2016['2016'] = w_lan_2016.col / len(sr2016.tech_do.dropna())\n",
    "w_lan_2016.drop('col', axis = 1, inplace = True)\n",
    "\n",
    "for i in w_lan_2016.index:\n",
    "    if i not in w_lan_2017.index:\n",
    "        w_lan_2016.drop(i, inplace=True)"
   ]
  },
  {
   "cell_type": "code",
   "execution_count": 36,
   "metadata": {},
   "outputs": [],
   "source": [
    "worked_lang_2018 = defaultdict(int) \n",
    "for i in sr2018['LanguageWorkedWith'].dropna():\n",
    "    lang = i.split(';')\n",
    "    for j in lang:\n",
    "        worked_lang_2018[j] += 1\n",
    "\n",
    "worked_lang_2018\n",
    "w_lan_2018 = pd.DataFrame.from_dict(worked_lang_2018, orient = 'index', columns = ['col'])\n",
    "w_lan_2018.sort_values(by = ['col'], ascending = False,  inplace = True)\n",
    "w_lan_2018['2018'] = w_lan_2018.col / len(sr2018['LanguageWorkedWith'].dropna())\n",
    "w_lan_2018.drop('col', axis = 1, inplace = True)"
   ]
  },
  {
   "cell_type": "code",
   "execution_count": 37,
   "metadata": {
    "scrolled": true
   },
   "outputs": [
    {
     "name": "stderr",
     "output_type": "stream",
     "text": [
      "E:\\Program Files\\Anaconda3\\lib\\site-packages\\pandas\\core\\frame.py:6359: FutureWarning: Sorting because non-concatenation axis is not aligned. A future version\n",
      "of pandas will change to not sort by default.\n",
      "\n",
      "To accept the future behavior, pass 'sort=True'.\n",
      "\n",
      "To retain the current behavior and silence the warning, pass sort=False\n",
      "\n",
      "  verify_integrity=True)\n"
     ]
    },
    {
     "data": {
      "text/html": [
       "<div>\n",
       "<style scoped>\n",
       "    .dataframe tbody tr th:only-of-type {\n",
       "        vertical-align: middle;\n",
       "    }\n",
       "\n",
       "    .dataframe tbody tr th {\n",
       "        vertical-align: top;\n",
       "    }\n",
       "\n",
       "    .dataframe thead th {\n",
       "        text-align: right;\n",
       "    }\n",
       "</style>\n",
       "<table border=\"1\" class=\"dataframe\">\n",
       "  <thead>\n",
       "    <tr style=\"text-align: right;\">\n",
       "      <th></th>\n",
       "      <th>Bash/Shell</th>\n",
       "      <th>C</th>\n",
       "      <th>C#</th>\n",
       "      <th>C++</th>\n",
       "      <th>CSS</th>\n",
       "      <th>HTML</th>\n",
       "      <th>Java</th>\n",
       "      <th>JavaScript</th>\n",
       "      <th>Objective-C</th>\n",
       "      <th>PHP</th>\n",
       "      <th>Python</th>\n",
       "      <th>Ruby</th>\n",
       "      <th>SQL</th>\n",
       "      <th>TypeScript</th>\n",
       "    </tr>\n",
       "  </thead>\n",
       "  <tbody>\n",
       "    <tr>\n",
       "      <th>2016</th>\n",
       "      <td>NaN</td>\n",
       "      <td>0.156614</td>\n",
       "      <td>0.311739</td>\n",
       "      <td>0.195594</td>\n",
       "      <td>NaN</td>\n",
       "      <td>NaN</td>\n",
       "      <td>0.365977</td>\n",
       "      <td>0.558593</td>\n",
       "      <td>0.065314</td>\n",
       "      <td>0.260683</td>\n",
       "      <td>0.250525</td>\n",
       "      <td>0.089403</td>\n",
       "      <td>0.448261</td>\n",
       "      <td>NaN</td>\n",
       "    </tr>\n",
       "    <tr>\n",
       "      <th>2017</th>\n",
       "      <td>NaN</td>\n",
       "      <td>0.190416</td>\n",
       "      <td>0.340642</td>\n",
       "      <td>0.222662</td>\n",
       "      <td>NaN</td>\n",
       "      <td>NaN</td>\n",
       "      <td>0.396560</td>\n",
       "      <td>0.624573</td>\n",
       "      <td>NaN</td>\n",
       "      <td>0.280956</td>\n",
       "      <td>0.319563</td>\n",
       "      <td>0.090758</td>\n",
       "      <td>0.512055</td>\n",
       "      <td>0.095235</td>\n",
       "    </tr>\n",
       "    <tr>\n",
       "      <th>2018</th>\n",
       "      <td>0.397937</td>\n",
       "      <td>NaN</td>\n",
       "      <td>0.344091</td>\n",
       "      <td>0.253683</td>\n",
       "      <td>0.65079</td>\n",
       "      <td>0.684607</td>\n",
       "      <td>0.453456</td>\n",
       "      <td>0.698113</td>\n",
       "      <td>NaN</td>\n",
       "      <td>0.307287</td>\n",
       "      <td>0.387558</td>\n",
       "      <td>NaN</td>\n",
       "      <td>0.570250</td>\n",
       "      <td>NaN</td>\n",
       "    </tr>\n",
       "  </tbody>\n",
       "</table>\n",
       "</div>"
      ],
      "text/plain": [
       "      Bash/Shell         C        C#       C++      CSS      HTML      Java  \\\n",
       "2016         NaN  0.156614  0.311739  0.195594      NaN       NaN  0.365977   \n",
       "2017         NaN  0.190416  0.340642  0.222662      NaN       NaN  0.396560   \n",
       "2018    0.397937       NaN  0.344091  0.253683  0.65079  0.684607  0.453456   \n",
       "\n",
       "      JavaScript  Objective-C       PHP    Python      Ruby       SQL  \\\n",
       "2016    0.558593     0.065314  0.260683  0.250525  0.089403  0.448261   \n",
       "2017    0.624573          NaN  0.280956  0.319563  0.090758  0.512055   \n",
       "2018    0.698113          NaN  0.307287  0.387558       NaN  0.570250   \n",
       "\n",
       "      TypeScript  \n",
       "2016         NaN  \n",
       "2017    0.095235  \n",
       "2018         NaN  "
      ]
     },
     "execution_count": 37,
     "metadata": {},
     "output_type": "execute_result"
    }
   ],
   "source": [
    "#Merge above dataframe\n",
    "w_lan = w_lan_2016[:10].join([w_lan_2017[:10], w_lan_2018[:10]], how = 'outer')\n",
    "w_lan = w_lan.T\n",
    "w_lan"
   ]
  },
  {
   "cell_type": "code",
   "execution_count": 38,
   "metadata": {},
   "outputs": [
    {
     "data": {
      "text/plain": [
       "nan"
      ]
     },
     "execution_count": 38,
     "metadata": {},
     "output_type": "execute_result"
    }
   ],
   "source": [
    "w_lan.loc['2018', 'C']"
   ]
  },
  {
   "cell_type": "code",
   "execution_count": 79,
   "metadata": {},
   "outputs": [
    {
     "data": {
      "image/png": "[encoded data removed]",
      "text/plain": [
       "<Figure size 432x576 with 1 Axes>"
      ]
     },
     "metadata": {},
     "output_type": "display_data"
    }
   ],
   "source": [
    "plt.figure(figsize = [6, 8])\n",
    "for i in w_lan.columns:\n",
    "    plt.plot(range(3), w_lan[i], ls = '--', marker = 'o')\n",
    "    plt.xticks(range(3), w_lan.index)\n",
    "    texts = []\n",
    "    if w_lan.loc['2018',i] >0:\n",
    "        texts.append(plt.text(2.03, w_lan.loc['2018',i], '{lan}'.format(lan = i)))\n",
    "    elif w_lan.loc['2017',i] >0:\n",
    "        texts.append(plt.text(1.03, w_lan.loc['2017',i], '{lan}'.format(lan = i)))\n",
    "    else:\n",
    "        texts.append(plt.text(0.03, w_lan.loc['2016',i], '{lan}'.format(lan = i)))\n",
    "adjust_text(texts)\n",
    "plt.margins(x = 0.25)\n",
    "plt.ylabel('Percentage of language respondent have used')\n",
    "plt.title('Language Used')\n",
    "plt.legend(loc = 6, bbox_to_anchor = (1, 0.5))\n",
    "plt.savefig('./fig/lan_used')"
   ]
  },
  {
   "cell_type": "code",
   "execution_count": null,
   "metadata": {},
   "outputs": [],
   "source": []
  },
  {
   "cell_type": "code",
   "execution_count": null,
   "metadata": {},
   "outputs": [],
   "source": []
  },
  {
   "cell_type": "code",
   "execution_count": 40,
   "metadata": {},
   "outputs": [],
   "source": [
    "desire_lang_2017 = defaultdict(int) \n",
    "for i in sr2017['WantWorkLanguage'].dropna():\n",
    "    lang = i.split('; ')\n",
    "    for j in lang:\n",
    "        desire_lang_2017[j] += 1\n",
    "\n",
    "d_lan_2017 = pd.DataFrame.from_dict(desire_lang_2017, orient = 'index', columns = ['col'])\n",
    "d_lan_2017.sort_values(by = ['col'], ascending = False,  inplace = True)\n",
    "d_lan_2017['2017'] = d_lan_2017.col / len(sr2017['WantWorkLanguage'].dropna())\n",
    "d_lan_2017.drop('col', axis = 1, inplace = True)"
   ]
  },
  {
   "cell_type": "code",
   "execution_count": 41,
   "metadata": {},
   "outputs": [],
   "source": [
    "desire_lang_2018 = defaultdict(int) \n",
    "for i in sr2018['LanguageDesireNextYear'].dropna():\n",
    "    lang = i.split(';')\n",
    "    for j in lang:\n",
    "        desire_lang_2018[j] += 1\n",
    "\n",
    "\n",
    "d_lan_2018 = pd.DataFrame.from_dict(desire_lang_2018, orient = 'index', columns = ['col'])\n",
    "d_lan_2018.sort_values(by = ['col'], ascending = False,  inplace = True)\n",
    "d_lan_2018['2018'] = d_lan_2018.col / len(sr2018['LanguageDesireNextYear'].dropna())\n",
    "d_lan_2018.drop('col', axis = 1, inplace = True)"
   ]
  },
  {
   "cell_type": "code",
   "execution_count": 42,
   "metadata": {},
   "outputs": [],
   "source": [
    "desire_lang_2016 = defaultdict(int) \n",
    "for i in sr2016.tech_want.dropna():\n",
    "    lang = i.split('; ')\n",
    "    for j in lang:\n",
    "        desire_lang_2016[j] += 1\n",
    "\n",
    "d_lan_2016 = pd.DataFrame.from_dict(desire_lang_2016, orient = 'index', columns = ['col'])\n",
    "d_lan_2016.sort_values(by = ['col'], ascending = False,  inplace = True)\n",
    "d_lan_2016['2016'] = d_lan_2016.col / len(sr2016.tech_want.dropna())\n",
    "d_lan_2016.drop('col', axis = 1, inplace = True)\n",
    "\n",
    "for i in d_lan_2016.index:\n",
    "    if i not in d_lan_2017.index:\n",
    "        d_lan_2016.drop(i, inplace=True)"
   ]
  },
  {
   "cell_type": "code",
   "execution_count": 43,
   "metadata": {},
   "outputs": [
    {
     "name": "stderr",
     "output_type": "stream",
     "text": [
      "E:\\Program Files\\Anaconda3\\lib\\site-packages\\pandas\\core\\frame.py:6359: FutureWarning: Sorting because non-concatenation axis is not aligned. A future version\n",
      "of pandas will change to not sort by default.\n",
      "\n",
      "To accept the future behavior, pass 'sort=True'.\n",
      "\n",
      "To retain the current behavior and silence the warning, pass sort=False\n",
      "\n",
      "  verify_integrity=True)\n"
     ]
    },
    {
     "data": {
      "text/html": [
       "<div>\n",
       "<style scoped>\n",
       "    .dataframe tbody tr th:only-of-type {\n",
       "        vertical-align: middle;\n",
       "    }\n",
       "\n",
       "    .dataframe tbody tr th {\n",
       "        vertical-align: top;\n",
       "    }\n",
       "\n",
       "    .dataframe thead th {\n",
       "        text-align: right;\n",
       "    }\n",
       "</style>\n",
       "<table border=\"1\" class=\"dataframe\">\n",
       "  <thead>\n",
       "    <tr style=\"text-align: right;\">\n",
       "      <th></th>\n",
       "      <th>Bash/Shell</th>\n",
       "      <th>C</th>\n",
       "      <th>C#</th>\n",
       "      <th>C++</th>\n",
       "      <th>CSS</th>\n",
       "      <th>Go</th>\n",
       "      <th>HTML</th>\n",
       "      <th>Java</th>\n",
       "      <th>JavaScript</th>\n",
       "      <th>PHP</th>\n",
       "      <th>Python</th>\n",
       "      <th>Ruby</th>\n",
       "      <th>SQL</th>\n",
       "      <th>Swift</th>\n",
       "      <th>TypeScript</th>\n",
       "    </tr>\n",
       "  </thead>\n",
       "  <tbody>\n",
       "    <tr>\n",
       "      <th>2016</th>\n",
       "      <td>NaN</td>\n",
       "      <td>0.119578</td>\n",
       "      <td>0.252503</td>\n",
       "      <td>0.191358</td>\n",
       "      <td>NaN</td>\n",
       "      <td>NaN</td>\n",
       "      <td>NaN</td>\n",
       "      <td>0.256548</td>\n",
       "      <td>0.375626</td>\n",
       "      <td>0.136407</td>\n",
       "      <td>0.281427</td>\n",
       "      <td>0.116929</td>\n",
       "      <td>0.219657</td>\n",
       "      <td>0.137533</td>\n",
       "      <td>NaN</td>\n",
       "    </tr>\n",
       "    <tr>\n",
       "      <th>2017</th>\n",
       "      <td>NaN</td>\n",
       "      <td>0.143348</td>\n",
       "      <td>0.301649</td>\n",
       "      <td>0.226437</td>\n",
       "      <td>NaN</td>\n",
       "      <td>0.170857</td>\n",
       "      <td>NaN</td>\n",
       "      <td>0.295757</td>\n",
       "      <td>0.483462</td>\n",
       "      <td>0.158864</td>\n",
       "      <td>0.372213</td>\n",
       "      <td>NaN</td>\n",
       "      <td>0.332149</td>\n",
       "      <td>NaN</td>\n",
       "      <td>0.168547</td>\n",
       "    </tr>\n",
       "    <tr>\n",
       "      <th>2018</th>\n",
       "      <td>0.283313</td>\n",
       "      <td>NaN</td>\n",
       "      <td>0.278781</td>\n",
       "      <td>NaN</td>\n",
       "      <td>0.412307</td>\n",
       "      <td>0.212017</td>\n",
       "      <td>0.434015</td>\n",
       "      <td>0.307957</td>\n",
       "      <td>0.525162</td>\n",
       "      <td>NaN</td>\n",
       "      <td>0.447750</td>\n",
       "      <td>NaN</td>\n",
       "      <td>0.382434</td>\n",
       "      <td>NaN</td>\n",
       "      <td>0.230681</td>\n",
       "    </tr>\n",
       "  </tbody>\n",
       "</table>\n",
       "</div>"
      ],
      "text/plain": [
       "      Bash/Shell         C        C#       C++       CSS        Go      HTML  \\\n",
       "2016         NaN  0.119578  0.252503  0.191358       NaN       NaN       NaN   \n",
       "2017         NaN  0.143348  0.301649  0.226437       NaN  0.170857       NaN   \n",
       "2018    0.283313       NaN  0.278781       NaN  0.412307  0.212017  0.434015   \n",
       "\n",
       "          Java  JavaScript       PHP    Python      Ruby       SQL     Swift  \\\n",
       "2016  0.256548    0.375626  0.136407  0.281427  0.116929  0.219657  0.137533   \n",
       "2017  0.295757    0.483462  0.158864  0.372213       NaN  0.332149       NaN   \n",
       "2018  0.307957    0.525162       NaN  0.447750       NaN  0.382434       NaN   \n",
       "\n",
       "      TypeScript  \n",
       "2016         NaN  \n",
       "2017    0.168547  \n",
       "2018    0.230681  "
      ]
     },
     "execution_count": 43,
     "metadata": {},
     "output_type": "execute_result"
    }
   ],
   "source": [
    "#Merge above dataframe\n",
    "d_lan = d_lan_2016[:10].join([d_lan_2017[:10], d_lan_2018[:10]], how = 'outer')\n",
    "d_lan = d_lan.T\n",
    "d_lan"
   ]
  },
  {
   "cell_type": "code",
   "execution_count": 44,
   "metadata": {},
   "outputs": [
    {
     "data": {
      "image/png": "[encoded data removed]",
      "text/plain": [
       "<Figure size 432x576 with 1 Axes>"
      ]
     },
     "metadata": {},
     "output_type": "display_data"
    }
   ],
   "source": [
    "plt.figure(figsize = [6, 8])\n",
    "for i in d_lan.columns:\n",
    "    plt.plot(range(3), d_lan[i], ls = '--', marker = '*')\n",
    "    plt.xticks(range(3), d_lan.index)\n",
    "    texts = []\n",
    "    if d_lan.loc['2018',i] >0:\n",
    "        texts.append(plt.text(2.03, d_lan.loc['2018',i], '{lan}'.format(lan = i)))\n",
    "    elif d_lan.loc['2017',i] >0:\n",
    "        texts.append(plt.text(1.03, d_lan.loc['2017',i], '{lan}'.format(lan = i)))\n",
    "    else:\n",
    "        texts.append(plt.text(0.03, d_lan.loc['2016',i], '{lan}'.format(lan = i)))\n",
    "adjust_text(texts)\n",
    "plt.margins(x = 0.25)\n",
    "plt.ylabel('Percentage of language respondent want to use')\n",
    "plt.title('Language Want')\n",
    "plt.legend(loc = 6, bbox_to_anchor = (1, 0.5))\n",
    "plt.savefig('./fig/lan_want')"
   ]
  },
  {
   "cell_type": "code",
   "execution_count": null,
   "metadata": {},
   "outputs": [],
   "source": []
  },
  {
   "cell_type": "code",
   "execution_count": null,
   "metadata": {},
   "outputs": [],
   "source": []
  },
  {
   "cell_type": "code",
   "execution_count": null,
   "metadata": {},
   "outputs": [],
   "source": []
  },
  {
   "cell_type": "code",
   "execution_count": null,
   "metadata": {},
   "outputs": [],
   "source": []
  },
  {
   "cell_type": "code",
   "execution_count": null,
   "metadata": {},
   "outputs": [],
   "source": []
  },
  {
   "cell_type": "code",
   "execution_count": null,
   "metadata": {},
   "outputs": [],
   "source": []
  },
  {
   "cell_type": "code",
   "execution_count": null,
   "metadata": {},
   "outputs": [],
   "source": []
  },
  {
   "cell_type": "code",
   "execution_count": null,
   "metadata": {},
   "outputs": [],
   "source": []
  },
  {
   "cell_type": "code",
   "execution_count": null,
   "metadata": {},
   "outputs": [],
   "source": []
  },
  {
   "cell_type": "code",
   "execution_count": null,
   "metadata": {},
   "outputs": [],
   "source": []
  },
  {
   "cell_type": "code",
   "execution_count": null,
   "metadata": {},
   "outputs": [],
   "source": []
  },
  {
   "cell_type": "code",
   "execution_count": null,
   "metadata": {},
   "outputs": [],
   "source": []
  },
  {
   "cell_type": "code",
   "execution_count": null,
   "metadata": {},
   "outputs": [],
   "source": []
  },
  {
   "cell_type": "code",
   "execution_count": null,
   "metadata": {},
   "outputs": [],
   "source": []
  },
  {
   "cell_type": "code",
   "execution_count": null,
   "metadata": {},
   "outputs": [],
   "source": []
  },
  {
   "cell_type": "code",
   "execution_count": null,
   "metadata": {},
   "outputs": [],
   "source": []
  },
  {
   "cell_type": "code",
   "execution_count": null,
   "metadata": {},
   "outputs": [],
   "source": []
  },
  {
   "cell_type": "code",
   "execution_count": null,
   "metadata": {},
   "outputs": [],
   "source": []
  },
  {
   "cell_type": "code",
   "execution_count": null,
   "metadata": {},
   "outputs": [],
   "source": []
  },
  {
   "cell_type": "code",
   "execution_count": null,
   "metadata": {},
   "outputs": [],
   "source": []
  },
  {
   "cell_type": "code",
   "execution_count": null,
   "metadata": {},
   "outputs": [],
   "source": []
  },
  {
   "cell_type": "code",
   "execution_count": null,
   "metadata": {},
   "outputs": [],
   "source": []
  },
  {
   "cell_type": "code",
   "execution_count": null,
   "metadata": {},
   "outputs": [],
   "source": []
  },
  {
   "cell_type": "code",
   "execution_count": null,
   "metadata": {},
   "outputs": [],
   "source": []
  },
  {
   "cell_type": "code",
   "execution_count": null,
   "metadata": {},
   "outputs": [],
   "source": []
  },
  {
   "cell_type": "code",
   "execution_count": null,
   "metadata": {},
   "outputs": [],
   "source": []
  },
  {
   "cell_type": "code",
   "execution_count": null,
   "metadata": {},
   "outputs": [],
   "source": []
  },
  {
   "cell_type": "code",
   "execution_count": null,
   "metadata": {},
   "outputs": [],
   "source": []
  },
  {
   "cell_type": "code",
   "execution_count": null,
   "metadata": {},
   "outputs": [],
   "source": []
  },
  {
   "cell_type": "code",
   "execution_count": null,
   "metadata": {},
   "outputs": [],
   "source": []
  },
  {
   "cell_type": "code",
   "execution_count": null,
   "metadata": {},
   "outputs": [],
   "source": []
  },
  {
   "cell_type": "code",
   "execution_count": null,
   "metadata": {},
   "outputs": [],
   "source": []
  },
  {
   "cell_type": "code",
   "execution_count": null,
   "metadata": {},
   "outputs": [],
   "source": []
  },
  {
   "cell_type": "code",
   "execution_count": null,
   "metadata": {},
   "outputs": [],
   "source": []
  },
  {
   "cell_type": "code",
   "execution_count": null,
   "metadata": {},
   "outputs": [],
   "source": []
  },
  {
   "cell_type": "code",
   "execution_count": null,
   "metadata": {},
   "outputs": [],
   "source": []
  }
 ],
 "metadata": {
  "kernelspec": {
   "display_name": "Python 3",
   "language": "python",
   "name": "python3"
  },
  "language_info": {
   "codemirror_mode": {
    "name": "ipython",
    "version": 3
   },
   "file_extension": ".py",
   "mimetype": "text/x-python",
   "name": "python",
   "nbconvert_exporter": "python",
   "pygments_lexer": "ipython3",
   "version": "3.6.5"
  }
 },
 "nbformat": 4,
 "nbformat_minor": 2
}
