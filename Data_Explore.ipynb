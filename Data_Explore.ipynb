{
 "cells": [
  {
   "cell_type": "code",
   "execution_count": 8,
   "metadata": {},
   "outputs": [],
   "source": [
    "#Import necessary libraries\n",
    "import numpy as np\n",
    "import pandas as pd\n",
    "import matplotlib.pyplot as plt\n",
    "import seaborn as sb\n",
    "from collections import defaultdict\n",
    "from adjustText import adjust_text\n",
    "%matplotlib inline"
   ]
  },
  {
   "cell_type": "markdown",
   "metadata": {},
   "source": [
    "## Purpose of the analysis\n",
    "All data is from https://insights.stackoverflow.com/survey\n",
    "The purpose of the analysis of the data is to find out if it is still a good time to try getting a job in IT industry \n",
    "The data exploratory is to answer following questions:\n",
    "During recent 5 years (2014~2018)\n",
    "\n",
    "## Content\n",
    "\n",
    "The analysis will include exploration into following questions:\n",
    "1. Review of respondent number\n",
    "2. Reveiw of question number\n",
    "3. Is IT developer amount saturated in IT industry well-developed countries?\n",
    "4. Is IT developer amount grow faster in other country?\n",
    "5. Does gender ratio improve in IT industry?\n",
    "6. What is the trend of occupation in the survey for referrence?\n",
    "7. What is the trend of language in the survey for referrence?"
   ]
  },
  {
   "cell_type": "code",
   "execution_count": 9,
   "metadata": {
    "scrolled": true
   },
   "outputs": [
    {
     "name": "stderr",
     "output_type": "stream",
     "text": [
      "E:\\Program Files\\Anaconda3\\lib\\site-packages\\IPython\\core\\interactiveshell.py:2785: DtypeWarning: Columns (5,108,121,196,197,198) have mixed types. Specify dtype option on import or set low_memory=False.\n",
      "  interactivity=interactivity, compiler=compiler, result=result)\n",
      "E:\\Program Files\\Anaconda3\\lib\\site-packages\\IPython\\core\\interactiveshell.py:2785: DtypeWarning: Columns (8,12,13,14,15,16,50,51,52,53,55,56,57,58,59,60,61,62,63,64,65,66,67,68,69,70,71,72,73,74,75,76,77,78,79,80,81,82,83,84,85,93,94,95,96,97,98,99,100,101,102,103,104,105,106,107,108,109,110,111,112,113,114,115,116,117,118,119,120,121,122,123,124,125,126,127,128) have mixed types. Specify dtype option on import or set low_memory=False.\n",
      "  interactivity=interactivity, compiler=compiler, result=result)\n"
     ]
    }
   ],
   "source": [
    "#Load survey data\n",
    "sr2014 = pd.read_csv('../datasets/2014Responses.csv')\n",
    "sr2015 = pd.read_csv('../datasets/2015Responses.csv')\n",
    "sr2016 = pd.read_csv('../datasets/2016Responses.csv')\n",
    "sr2017 = pd.read_csv('../datasets/2017Responses.csv')\n",
    "sr2018 = pd.read_csv('../datasets/2018Responses.csv')"
   ]
  },
  {
   "cell_type": "markdown",
   "metadata": {},
   "source": [
    "### 1. Get review of the size of respondent in each year survey"
   ]
  },
  {
   "cell_type": "code",
   "execution_count": 10,
   "metadata": {
    "scrolled": false
   },
   "outputs": [
    {
     "data": {
      "image/png": "[encoded data removed]",
      "text/plain": [
       "<Figure size 432x288 with 1 Axes>"
      ]
     },
     "metadata": {},
     "output_type": "display_data"
    }
   ],
   "source": [
    "# Collect respondent number into dataframe\n",
    "respondent = {}\n",
    "for i in np.arange(2014, 2019, 1):\n",
    "    respondent[i] = eval('sr'+str(i)).shape[0]\n",
    "rpdt_df = pd.DataFrame.from_dict(respondent, orient = 'index', columns = ['num_respondent'])\n",
    "\n",
    "# Plot the respondent barplot\n",
    "x = rpdt_df.num_respondent.tolist()\n",
    "plt.bar(range(len(x)), x)\n",
    "plt.xticks(range(len(x)), rpdt_df.index)\n",
    "for i in range(len(x)):\n",
    "    plt.text(i-0.22, x[i]+800, x[i])\n",
    "plt.ylabel('Number of Respondent')\n",
    "plt.title('Respondent Number of the Stackoverflow Survey')\n",
    "plt.tight_layout()\n",
    "plt.savefig('./fig/respndent')"
   ]
  },
  {
   "cell_type": "markdown",
   "metadata": {},
   "source": [
    "#### Summary to 1\n",
    "- Based on the respondent size, it has a obvious leap in 2015, 2016 and 2018, the respondent amount almost doubled in these years\n",
    "- In 2017, respondent amount slightly decline compared former year.\n",
    "- The overal trend in recent 5 years has an amazing 89.64% CAGR(compound annual growth rate)"
   ]
  },
  {
   "cell_type": "markdown",
   "metadata": {},
   "source": [
    "### 2. Get a review of the number of question in each year survey"
   ]
  },
  {
   "cell_type": "code",
   "execution_count": 11,
   "metadata": {
    "scrolled": true
   },
   "outputs": [
    {
     "data": {
      "image/png": "[encoded data removed]",
      "text/plain": [
       "<Figure size 432x288 with 1 Axes>"
      ]
     },
     "metadata": {},
     "output_type": "display_data"
    }
   ],
   "source": [
    "# Collect question number in dataframe\n",
    "question = {}\n",
    "for i in np.arange(2014, 2019, 1):\n",
    "    question[i] = eval('sr'+str(i)).shape[1]\n",
    "que_df = pd.DataFrame.from_dict(question, orient = 'index', columns = ['num_question'])\n",
    "\n",
    "# Plot the question barplot\n",
    "x = que_df.num_question.tolist()\n",
    "plt.bar(range(len(x)), x)\n",
    "plt.xticks(range(len(x)), que_df.index)\n",
    "for i in range(len(x)):\n",
    "    plt.text(i-0.12, x[i]+2, x[i])\n",
    "plt.ylabel('Number of Question')\n",
    "plt.title('Question Number of the Stackoverflow Survey')\n",
    "plt.tight_layout()\n",
    "plt.savefig('./fig/question')"
   ]
  },
  {
   "cell_type": "markdown",
   "metadata": {},
   "source": [
    "#### summary to 2\n",
    "- The question number is mainly due to how the question being asked.\n",
    "- In 2014 and 2015, questions regarding language used and to be used was asked by multiple yes/no questions about a single language.\n",
    "- With the boom of techniques in mobile platform as well as cloud platform, more and more languages and technologies appear, so in 2015 survey the overall question number reach 222.\n",
    "- After 2016, these language questions have been integrated into several multiple choices so the question number has been squeezed\n",
    "- In 2017 and 2018, more question regarding developer workplace and career has been added, so the question number increase again"
   ]
  },
  {
   "cell_type": "markdown",
   "metadata": {},
   "source": [
    "### 3. Is IT developer amount saturated in IT industry well-developed country?\n",
    "The direct answer to this question in the survey is non-existing.\n",
    "The logic to answer the question is to track the top 5 countires with most respondents to see the change of their growth rate and rank\n",
    "\n",
    "Ahead of the analysis, get a review of the total number of country and terriority appeared in the survey"
   ]
  },
  {
   "cell_type": "code",
   "execution_count": 13,
   "metadata": {},
   "outputs": [],
   "source": [
    "# Get the country distribution ratio\n",
    "country2014 = pd.DataFrame(sr2014['What Country do you live in?'].dropna().value_counts()\n",
    "                            / len(sr2014['What Country do you live in?'].dropna()))\n",
    "country2014.columns = ['2014']\n",
    "\n",
    "country2015 = pd.DataFrame(sr2015.Country.dropna()\n",
    "                            .value_counts()/ len(sr2015.Country.dropna()))\n",
    "country2015.columns = ['2015']\n",
    "\n",
    "country2016 = pd.DataFrame(sr2016.country.dropna()\n",
    "                            .value_counts()/ len(sr2016.country.dropna()))\n",
    "country2016.columns = ['2016']\n",
    "\n",
    "country2017 = pd.DataFrame(sr2017.Country.dropna()\n",
    "                            .value_counts()/ len(sr2017.Country.dropna()))\n",
    "country2017.columns = ['2017']\n",
    "\n",
    "country2018 = pd.DataFrame(sr2018.Country.dropna()\n",
    "                            .value_counts()/ len(sr2018.Country.dropna()))\n",
    "country2018.columns = ['2018']"
   ]
  },
  {
   "cell_type": "code",
   "execution_count": 14,
   "metadata": {},
   "outputs": [
    {
     "name": "stdout",
     "output_type": "stream",
     "text": [
      "0.0 0.030936134324925247 0.008959485989648403 0.0 0.004167720398563553\n"
     ]
    }
   ],
   "source": [
    "# Get a review of the data missing rate in country\n",
    "miss2014 = (sr2014.shape[0]-len(sr2014['What Country do you live in?'].dropna()))/sr2014.shape[0]\n",
    "miss2015 = (sr2015.shape[0]-len(sr2015.Country.dropna()))/sr2015.shape[0]\n",
    "miss2016 = (sr2016.shape[0]-len(sr2016.country.dropna()))/sr2016.shape[0]\n",
    "miss2017 = (sr2017.shape[0]-len(sr2017.Country.dropna()))/sr2017.shape[0]\n",
    "miss2018 = (sr2018.shape[0]-len(sr2018.Country.dropna()))/sr2018.shape[0]\n",
    "print(miss2014, miss2015, miss2016, miss2017, miss2018)"
   ]
  },
  {
   "cell_type": "markdown",
   "metadata": {},
   "source": [
    "##### Missing data in Countries and Territories\n",
    "It is complicated to predict the country of the respondent based on his occupation, age and other personal information.\n",
    "The missing rate in most years are negligible. So the solution to country column with missing data is to abandon these rows"
   ]
  },
  {
   "cell_type": "code",
   "execution_count": 15,
   "metadata": {},
   "outputs": [
    {
     "data": {
      "image/png": "[encoded data removed]",
      "text/plain": [
       "<Figure size 432x288 with 1 Axes>"
      ]
     },
     "metadata": {},
     "output_type": "display_data"
    }
   ],
   "source": [
    "# Collect country and territory number into dataframe\n",
    "country_size = {}\n",
    "for i in np.arange(2014, 2019, 1):\n",
    "    country_size[i] = eval('country'+str(i)).size\n",
    "country_size_df = pd.DataFrame.from_dict(country_size, orient = 'index', columns = ['country_size'])\n",
    "\n",
    "# Plot the number of country and territory barplot\n",
    "x = country_size_df.country_size.tolist()\n",
    "plt.bar(range(len(x)), x)\n",
    "plt.xticks(range(len(x)), country_size_df.index)\n",
    "for i in range(len(x)):\n",
    "    plt.text(i-0.12, x[i]+2, x[i])\n",
    "plt.ylabel('Number Count')\n",
    "plt.title('Number of Countries and Territories of Respondents in Recent 5 Years')\n",
    "plt.tight_layout()"
   ]
  },
  {
   "cell_type": "markdown",
   "metadata": {
    "scrolled": true
   },
   "source": [
    "The total number of country and territory sustainably increase during 2014 to 2016, but maintained at 170 to 200 in 2016 to 2018.\n",
    "\n",
    "So a prediction to the top 5 country proportion will go down during 2014 to 2016"
   ]
  },
  {
   "cell_type": "code",
   "execution_count": 16,
   "metadata": {},
   "outputs": [],
   "source": [
    "# Create some functions for further analysis\n",
    "def get_prop(num1, num2):\n",
    "    '''\n",
    "    The function is to get the sum of coumtries ranked from number 1 to number 2 proportion\n",
    "    \n",
    "    Input\n",
    "    num1: int, the start number of the country rank\n",
    "    num2: int, the end number of the country rank\n",
    "    \n",
    "    Output\n",
    "    temp_df —— pandas DataFrame with 1 column of the sum of proportion in 5 index from 2014 to 2018\n",
    "    \n",
    "    Eg. To get the the top 5, code 'get_prop(1, 5)'\n",
    "    Eg. To get the 6th to 30th country proportion, code 'get_prop(6, 30)'\n",
    "    '''\n",
    "    temp_dict = {}\n",
    "    for i in np.arange(2014, 2019):\n",
    "        temp_dict[i] = eval('country'+str(i)+'.iloc['+str(num1-1)+':'+str(num2-1)+'].values.sum()')\n",
    "    temp_df = pd.DataFrame.from_dict(temp_dict, orient = 'index', columns = ['col'])\n",
    "    return temp_df\n",
    "\n",
    "def plot_bar(df):\n",
    "    '''\n",
    "    The function to draw barplot of the dataframe using from get_prop function\n",
    "    \n",
    "    Input\n",
    "    df: DataFrame created from get_prop function\n",
    "    \n",
    "    Eg. draw top 10 countries' total proportion in 2014 till 2018, code 'plot_bar(get_prop(1, 10))'   \n",
    "    '''\n",
    "    x = df.col.tolist()\n",
    "    plt.bar(range(len(x)), x)\n",
    "    plt.xticks(range(len(x)), df.index)\n",
    "    plt.tight_layout()"
   ]
  },
  {
   "cell_type": "code",
   "execution_count": 17,
   "metadata": {},
   "outputs": [
    {
     "data": {
      "text/html": [
       "<div>\n",
       "<style scoped>\n",
       "    .dataframe tbody tr th:only-of-type {\n",
       "        vertical-align: middle;\n",
       "    }\n",
       "\n",
       "    .dataframe tbody tr th {\n",
       "        vertical-align: top;\n",
       "    }\n",
       "\n",
       "    .dataframe thead th {\n",
       "        text-align: right;\n",
       "    }\n",
       "</style>\n",
       "<table border=\"1\" class=\"dataframe\">\n",
       "  <thead>\n",
       "    <tr style=\"text-align: right;\">\n",
       "      <th></th>\n",
       "      <th>col</th>\n",
       "    </tr>\n",
       "  </thead>\n",
       "  <tbody>\n",
       "    <tr>\n",
       "      <th>2014</th>\n",
       "      <td>0.547488</td>\n",
       "    </tr>\n",
       "    <tr>\n",
       "      <th>2015</th>\n",
       "      <td>0.458286</td>\n",
       "    </tr>\n",
       "    <tr>\n",
       "      <th>2016</th>\n",
       "      <td>0.471618</td>\n",
       "    </tr>\n",
       "    <tr>\n",
       "      <th>2017</th>\n",
       "      <td>0.490154</td>\n",
       "    </tr>\n",
       "    <tr>\n",
       "      <th>2018</th>\n",
       "      <td>0.474488</td>\n",
       "    </tr>\n",
       "  </tbody>\n",
       "</table>\n",
       "</div>"
      ],
      "text/plain": [
       "           col\n",
       "2014  0.547488\n",
       "2015  0.458286\n",
       "2016  0.471618\n",
       "2017  0.490154\n",
       "2018  0.474488"
      ]
     },
     "execution_count": 17,
     "metadata": {},
     "output_type": "execute_result"
    }
   ],
   "source": [
    "top_5_prop = get_prop(1, 5)\n",
    "top_5_prop"
   ]
  },
  {
   "cell_type": "code",
   "execution_count": 18,
   "metadata": {
    "scrolled": false
   },
   "outputs": [
    {
     "data": {
      "image/png": "[encoded data removed]",
      "text/plain": [
       "<Figure size 432x288 with 1 Axes>"
      ]
     },
     "metadata": {},
     "output_type": "display_data"
    }
   ],
   "source": [
    "plot_bar(top_5_prop)\n",
    "v = top_5_prop.col.tolist()\n",
    "for i in range(5):\n",
    "    plt.text(i-0.15, v[i]+0.005, '{:.2f}'.format(v[i]))\n",
    "plt.ylabel('Percentage')\n",
    "plt.title('Proportion of top 5 countires')\n",
    "plt.savefig('./fig/prop_5')"
   ]
  },
  {
   "cell_type": "markdown",
   "metadata": {},
   "source": [
    "#### Proportion of top 5 countries\n",
    "- As the prediction beforehand, proportion has a decrease in 2015 as more countries and territories appear in the survey.\n",
    "- The proportion keep stable during 2016 to 2018 around 50% of the total respondent.\n",
    "\n",
    "##### Then to study the rank of the 5 top countries"
   ]
  },
  {
   "cell_type": "code",
   "execution_count": 19,
   "metadata": {},
   "outputs": [
    {
     "name": "stderr",
     "output_type": "stream",
     "text": [
      "E:\\Program Files\\Anaconda3\\lib\\site-packages\\pandas\\core\\frame.py:6359: FutureWarning: Sorting because non-concatenation axis is not aligned. A future version\n",
      "of pandas will change to not sort by default.\n",
      "\n",
      "To accept the future behavior, pass 'sort=True'.\n",
      "\n",
      "To retain the current behavior and silence the warning, pass sort=False\n",
      "\n",
      "  verify_integrity=True)\n"
     ]
    },
    {
     "data": {
      "image/png": "[encoded data removed]",
      "text/plain": [
       "<Figure size 432x432 with 1 Axes>"
      ]
     },
     "metadata": {},
     "output_type": "display_data"
    }
   ],
   "source": [
    "# Collect top 5 countries in each year into dataframe\n",
    "top_5 = country2014.iloc[:5].join([country2015.iloc[:5], country2016.iloc[:5], \n",
    "                                     country2017.iloc[:5], country2018.iloc[:5]], how = 'outer')\n",
    "top_5 = top_5.T\n",
    "\n",
    "# Plot the line chart to show the trend\n",
    "plt.figure(figsize = [6, 6])\n",
    "marker = ['o', 'v', 'p', 'x', '*', 'D']\n",
    "for i in range(len(top_5.columns)):\n",
    "    plt.plot(range(5), top_5.iloc[:, i], ls = '--', marker = marker[i])\n",
    "    plt.xticks(range(5), top_5.index)\n",
    "plt.ylabel('Percentage')\n",
    "plt.title('Top 5 Country Trend in Survey')\n",
    "plt.legend(loc = 6, bbox_to_anchor = (1, 0.5))\n",
    "plt.savefig('./fig/top_5')"
   ]
  },
  {
   "cell_type": "markdown",
   "metadata": {},
   "source": [
    "#### Rank trend\n",
    "- The top 4 countries keep the same in the recent 5 years\n",
    "- No. 5 country has a replacement in 2015. Since most countries after top 5 has a very slight difference in ratio, it is understandable.\n",
    "- The rank of the top 5 country looks very stable\n",
    "\n",
    "#### Summary to 3\n",
    "- The proportion and rank figures of top 5 countries showed it is very stable for these IT industry developed countries\n",
    "- Considering the increase of the respondent number as well as country and territory number, it shows the need for IT developer is still vigorous in these countries\n",
    "- The reason for the phenomenon can be credited that the global economy rise constantly in these years, mobile devices and cloud platforms universalness, newly-developing technology (AI, VR, AR) springing up."
   ]
  },
  {
   "cell_type": "markdown",
   "metadata": {},
   "source": [
    "### 4. Is IT developer amount grow faster in other country?\n",
    "The method used to study the question is similar to chapter 3. The country or terroritory which ranked from 6th to 30th will be tracked to see how their percentage change in recent 5 years\n",
    "\n",
    "The rank track will not be included in this chapter. For most countries ranked between 6th to 30th won't have too obvious difference, the rank will changed rapidly in each year. Even the difference between 10th and 50th is small."
   ]
  },
  {
   "cell_type": "code",
   "execution_count": 20,
   "metadata": {
    "scrolled": true
   },
   "outputs": [
    {
     "data": {
      "text/html": [
       "<div>\n",
       "<style scoped>\n",
       "    .dataframe tbody tr th:only-of-type {\n",
       "        vertical-align: middle;\n",
       "    }\n",
       "\n",
       "    .dataframe tbody tr th {\n",
       "        vertical-align: top;\n",
       "    }\n",
       "\n",
       "    .dataframe thead th {\n",
       "        text-align: right;\n",
       "    }\n",
       "</style>\n",
       "<table border=\"1\" class=\"dataframe\">\n",
       "  <thead>\n",
       "    <tr style=\"text-align: right;\">\n",
       "      <th></th>\n",
       "      <th>col</th>\n",
       "    </tr>\n",
       "  </thead>\n",
       "  <tbody>\n",
       "    <tr>\n",
       "      <th>2014</th>\n",
       "      <td>0.284406</td>\n",
       "    </tr>\n",
       "    <tr>\n",
       "      <th>2015</th>\n",
       "      <td>0.362119</td>\n",
       "    </tr>\n",
       "    <tr>\n",
       "      <th>2016</th>\n",
       "      <td>0.354974</td>\n",
       "    </tr>\n",
       "    <tr>\n",
       "      <th>2017</th>\n",
       "      <td>0.294657</td>\n",
       "    </tr>\n",
       "    <tr>\n",
       "      <th>2018</th>\n",
       "      <td>0.320287</td>\n",
       "    </tr>\n",
       "  </tbody>\n",
       "</table>\n",
       "</div>"
      ],
      "text/plain": [
       "           col\n",
       "2014  0.284406\n",
       "2015  0.362119\n",
       "2016  0.354974\n",
       "2017  0.294657\n",
       "2018  0.320287"
      ]
     },
     "execution_count": 20,
     "metadata": {},
     "output_type": "execute_result"
    }
   ],
   "source": [
    "top_6_30_prop = get_prop(6, 30)\n",
    "top_6_30_prop"
   ]
  },
  {
   "cell_type": "code",
   "execution_count": 22,
   "metadata": {
    "scrolled": true
   },
   "outputs": [
    {
     "data": {
      "image/png": "[encoded data removed]",
      "text/plain": [
       "<Figure size 432x288 with 1 Axes>"
      ]
     },
     "metadata": {},
     "output_type": "display_data"
    }
   ],
   "source": [
    "plot_bar(top_6_30_prop)\n",
    "v = top_6_30_prop.col.tolist()\n",
    "for i in range(5):\n",
    "    plt.text(i-0.15, v[i]+0.001, '{:.2f}'.format(v[i]))\n",
    "plt.ylabel('Percentage')\n",
    "plt.title('Proportion of Rank 6th to 30th Countires in Survey')\n",
    "plt.savefig('./fig/prop_6_30')"
   ]
  },
  {
   "cell_type": "markdown",
   "metadata": {},
   "source": [
    "#### Proprotion of 6th to 30th countries\n",
    "- The proportion of rank 6th to 30th increase almost the same extent as the top 5 decrease in 2016\n",
    "- From 2016 to 2018, the proportion of the 6th to 30th countries is negatively correlated to the total country and territory number\n",
    "- From 2016 to 2018, the proportion of the 6th to 30th countries is around 30%\n",
    "- Related to top 5 proportion, respondent from the top 30 countries occupy 80% of the total\n",
    "\n",
    "#### Summary to 4\n",
    "- The study does not show the other country increase faster than the top 5 country (based on the proportion rate comparision)\n",
    "- Since the respondent has a CAGR of 89%, so it can be inferred that all countries share this growth rate\n",
    "- A shallow conclusion to chapter 3 and 4 is whatever country do you come from, IT developer is still demanded badly in most countries "
   ]
  },
  {
   "cell_type": "markdown",
   "metadata": {},
   "source": [
    "### 5 Does gender ratio improve in IT industry?\n",
    "The gender ratio will be compared within 5 year survey data to see if IT industry has improvement to accept more female developers"
   ]
  },
  {
   "cell_type": "code",
   "execution_count": 24,
   "metadata": {},
   "outputs": [],
   "source": [
    "# Get the gender ratio\n",
    "gender2014 = pd.DataFrame(sr2014['What is your gender?'].dropna().value_counts()\n",
    "                          / len(sr2014['What is your gender?'].dropna()))\n",
    "gender2014.columns = ['2014']\n",
    "\n",
    "gender2015 = pd.DataFrame(sr2015.Gender.dropna().value_counts() / len(sr2015.Gender.dropna()))\n",
    "gender2015.columns = ['2015']\n",
    "\n",
    "gender2016 = pd.DataFrame(sr2016.gender.dropna().value_counts() / len(sr2016.gender.dropna()))\n",
    "gender2016.columns = ['2016']\n",
    "\n",
    "gender2017 = pd.DataFrame(sr2017.Gender.dropna().value_counts() / len(sr2017.Gender.dropna()))\n",
    "gender2017.columns = ['2017']\n",
    "\n",
    "gender2018 = pd.DataFrame(sr2018.Gender.dropna() .value_counts() / len(sr2018.Gender.dropna()))\n",
    "gender2018.columns = ['2018']"
   ]
  },
  {
   "cell_type": "code",
   "execution_count": 32,
   "metadata": {},
   "outputs": [
    {
     "name": "stdout",
     "output_type": "stream",
     "text": [
      "0.0005232862375719183 0.00015333895576175038 7.139032661074296e-05 0.0005642901618928553 0.000151737393151552\n"
     ]
    }
   ],
   "source": [
    "# Get a review of the data missing rate in country\n",
    "miss_gender2014 = 1-(len(sr2014['What is your gender?']) - gender2014.size)/len(sr2014['What is your gender?'])\n",
    "miss_gender2015 = 1-(len(sr2015.Gender) - gender2015.size)/len(sr2015.Gender)\n",
    "miss_gender2016 = 1-(len(sr2016.gender) - gender2016.size)/len(sr2016.gender)\n",
    "miss_gender2017 = 1-(len(sr2017.Gender) - gender2017.size)/len(sr2017.Gender)\n",
    "miss_gender2018 = 1-(len(sr2018.Gender) - gender2018.size)/len(sr2018.Gender)\n",
    "print(miss_gender2014, miss_gender2015, miss_gender2016, miss_gender2017, miss_gender2018)"
   ]
  },
  {
   "cell_type": "markdown",
   "metadata": {},
   "source": [
    "#### Missing data rate in gender\n",
    "The missing data rate in gender is very little. So the missing data will be dropped"
   ]
  },
  {
   "cell_type": "code",
   "execution_count": 33,
   "metadata": {},
   "outputs": [
    {
     "data": {
      "image/png": "[encoded data removed]",
      "text/plain": [
       "<Figure size 432x432 with 1 Axes>"
      ]
     },
     "metadata": {},
     "output_type": "display_data"
    }
   ],
   "source": [
    "# Merge data into dataframe\n",
    "gender = gender2014.join([gender2015, gender2016, gender2017, gender2018], how = 'inner', sort = False)\n",
    "gender = gender.T\n",
    "\n",
    "# Plot the gender ratio line chart\n",
    "plt.figure(figsize = [6, 6])\n",
    "marker = ['o', 'v']\n",
    "for i in range(2):\n",
    "    plt.plot(range(5), gender.iloc[:, i], marker = 'o')\n",
    "    plt.xticks(range(5), gender.index)\n",
    "    for j in range(5):\n",
    "        plt.text(j-0.1, gender.iloc[j,i]+0.01, '{:0.2f}'.format(gender.iloc[j,i]))\n",
    "plt.ylabel('Percentage')\n",
    "plt.title('Gender Ratio Trend in Survey')\n",
    "plt.legend(loc = 0)\n",
    "plt.savefig('./fig/gender')"
   ]
  },
  {
   "cell_type": "markdown",
   "metadata": {},
   "source": [
    "#### Summary to 5\n",
    "- The gender ratio is almost invariable in recent 5 years\n",
    "- It's not a good recommendation for female to join IT industry since behind the data there must be some bias to female developer\n",
    "- To be optimistic, since the female developer ratio in IT industry is really low, it leaves a huge space in future to be improved"
   ]
  },
  {
   "cell_type": "markdown",
   "metadata": {},
   "source": [
    "### 6 What is the trend of occupation in the survey for referrence?\n",
    "\n",
    "In each year survey, the question and options under occupation always have some slight difference.\n",
    "\n",
    "To get the general trend of the different developer field, only web developer, mobile developer and data analyst (or scientist) will be compared at first.\n",
    "\n",
    "- Front-end, Back-end, Full-stack developer will be combined into web developer.\n",
    "- IOS, Android and Windows Phone developer will be combined into mobile developer.\n",
    "- Data related job, such as business analyst, machine learning specialist will be combined into data analyst or scientist.\n",
    "\n",
    "So the final result will only include the ratio of web, developer, mobile developer, data analyst or scientis, student and others."
   ]
  },
  {
   "cell_type": "code",
   "execution_count": 35,
   "metadata": {},
   "outputs": [],
   "source": [
    "# Since the difference in each year survey, the way to retrive data will differ\n",
    "sr2014_occ = sr2014['Which of the following best describes your occupation?'].dropna().replace(['Full-Stack Web Developer', \n",
    "                                                 'Back-End Web Developer', 'Front-End Web Developer'], 'Web developer')\n",
    "sr2014_occ = sr2014_occ.replace(['Mobile Application Developer'], 'Mobile developer')\n",
    "for i in range(len(sr2014_occ)):\n",
    "    if sr2014_occ.iloc[i] not in ['Web developer', 'Mobile developer', 'Student']:\n",
    "        sr2014_occ.iloc[i] = 'Other'\n",
    "\n",
    "occ2014 = pd.DataFrame(sr2014_occ.value_counts().values, index = sr2014_occ.value_counts().index, columns = ['col'])\n",
    "occ2014['2014ratio'] = occ2014.col / len(sr2014_occ)\n",
    "occ2014.drop('col', axis = 1, inplace = True)"
   ]
  },
  {
   "cell_type": "code",
   "execution_count": 36,
   "metadata": {},
   "outputs": [],
   "source": [
    "sr2015_occ = sr2015.Occupation.dropna().replace(['Full-stack web developer', \n",
    "                                                 'Back-end web developer', 'Front-end web developer'], 'Web developer')\n",
    "sr2015_occ = sr2015_occ.replace(['Mobile developer - iOS', 'Mobile developer - Android',\n",
    "                                'Mobile developer - Windows Phone'], 'Mobile developer')\n",
    "sr2015_occ = sr2015_occ.replace(['Developer with a statistics or mathematics background',\n",
    "                                'Analyst', 'Data scientist', 'Business intelligence or data warehousing expert', \n",
    "                                 'Machine learning developer'], 'Data analyst or scientist')\n",
    "for i in range(len(sr2015_occ)):\n",
    "    if sr2015_occ.iloc[i] not in ['Web developer', 'Mobile developer', 'Data analyst or scientist', 'Student']:\n",
    "        sr2015_occ.iloc[i] = 'Other'\n",
    "\n",
    "occ2015 = pd.DataFrame(sr2015_occ.value_counts().values, index = sr2015_occ.value_counts().index, columns = ['col'])\n",
    "occ2015['2015ratio'] = occ2015.col / len(sr2015_occ)\n",
    "occ2015.drop('col', axis = 1, inplace = True)"
   ]
  },
  {
   "cell_type": "code",
   "execution_count": 37,
   "metadata": {},
   "outputs": [],
   "source": [
    "sr2016_occ = sr2016.occupation.dropna().replace(['Full-stack web developer', \n",
    "                                                 'Back-end web developer', 'Front-end web developer'], 'Web developer')\n",
    "sr2016_occ = sr2016_occ.replace(['Mobile developer - iOS', 'Mobile developer - Android',\n",
    "                                'Mobile developer - Windows Phone'], 'Mobile developer')\n",
    "sr2016_occ = sr2016_occ.replace(['Developer with a statistics or mathematics background',\n",
    "                                'Analyst', 'Data scientist', 'Machine learning specialist',\n",
    "                                'Business intelligence or data warehousing expert', \n",
    "                                 'Machine learning developer'], 'Data analyst or scientist')\n",
    "for i in range(len(sr2016_occ)):\n",
    "    if sr2016_occ.iloc[i] not in ['Web developer', 'Mobile developer', 'Data analyst or scientist', 'Student']:\n",
    "        sr2016_occ.iloc[i] = 'Other'\n",
    "\n",
    "occ2016 = pd.DataFrame(sr2016_occ.value_counts().values, index = sr2016_occ.value_counts().index, columns = ['col'])\n",
    "occ2016['2016ratio'] = occ2016.col / len(sr2016_occ)\n",
    "occ2016.drop('col', axis = 1, inplace = True)"
   ]
  },
  {
   "cell_type": "markdown",
   "metadata": {},
   "source": [
    "In 2017 Survey, there is a change compared to 2014~2016, student type is included in another column 'Professional'\n",
    "\n",
    "But some respondent who pick 'Studeht' in 'Professional' also take multiple develop types in 'DeveloperType'\n",
    "\n",
    "As we want to collect data reflecting status of the job market, we use 'Student' to present the developer type as it was in 2014~2016"
   ]
  },
  {
   "cell_type": "code",
   "execution_count": 38,
   "metadata": {},
   "outputs": [],
   "source": [
    "for i in range(len(sr2017['DeveloperType'])):\n",
    "    if sr2017.loc[i, 'Professional'] == 'Student':\n",
    "        sr2017.loc[i, 'DeveloperType'] = 'Student'\n",
    "    else:\n",
    "        continue\n",
    "\n",
    "dev_count2017 = defaultdict(int)\n",
    "for i in sr2017.DeveloperType.dropna():\n",
    "    typ = i.split(sep='; ')\n",
    "    if 'Student' in typ:\n",
    "        typ = ['Student'] #The job interest for a student is not contained in this count\n",
    "    if 'Developer with a statistics or mathematics background' in typ or 'Data scientist' in typ or 'Machine learning specialist' in typ:\n",
    "        try:\n",
    "            typ.remove('Developer with a statistics or mathematics background')\n",
    "        except:\n",
    "            pass\n",
    "        try:\n",
    "            typ.remove('Data scientist')\n",
    "        except:\n",
    "            pass\n",
    "        try:\n",
    "            typ.remove('Machine learning specialist')\n",
    "        except:\n",
    "            pass\n",
    "        typ.append('Data analyst or scientist')\n",
    "        \n",
    "    del_num = []\n",
    "    for j in range(len(typ)):\n",
    "        if typ[j] not in ['Data analyst or scientist', 'Web developer', 'Mobile developer', 'Student', 'Other']:\n",
    "            del_num.append(j)\n",
    "    for k in del_num:\n",
    "        typ[k] = 'Other'\n",
    "    for l in list(set(typ)):\n",
    "        dev_count2017[l] += 1\n",
    "occ2017 = pd.DataFrame.from_dict(dev_count2017, orient = 'index', columns = ['col'])\n",
    "occ2017.sort_values(by = ['col'], ascending = False,  inplace = True)\n",
    "occ2017['2017ratio'] = occ2017.col / len(sr2017.DeveloperType.dropna())\n",
    "occ2017.drop('col', axis = 1, inplace = True)"
   ]
  },
  {
   "cell_type": "code",
   "execution_count": 39,
   "metadata": {},
   "outputs": [],
   "source": [
    "dev_count2018 = defaultdict(int)\n",
    "for i in sr2018.DevType.dropna():\n",
    "    typ = i.split(sep=';')\n",
    "    if 'Full-stack developer' in typ or 'Back-end developer' in typ or 'Front-end developer' in typ:\n",
    "        try:\n",
    "            typ.remove('Back-end developer')\n",
    "        except:\n",
    "            pass\n",
    "        try:\n",
    "            typ.remove('Front-end developer')\n",
    "        except:\n",
    "            pass\n",
    "        try:\n",
    "            typ.remove('Full-stack developer')\n",
    "        except:\n",
    "            pass\n",
    "        typ.append('Web developer')\n",
    "    if 'Data or business analyst' in typ or 'Data scientist or machine learning specialist' in typ:\n",
    "        try:\n",
    "            typ.remove('Data or business analyst')\n",
    "        except:\n",
    "            pass\n",
    "        try:\n",
    "            typ.remove('Data scientist or machine learning specialist')\n",
    "        except:\n",
    "            pass\n",
    "        typ.append('Data analyst or scientist')\n",
    "    if 'Student' in typ:\n",
    "        typ = ['Student'] #The job interest for a student is not contained in this count\n",
    "        \n",
    "    del_num = []\n",
    "    for j in range(len(typ)):\n",
    "        if typ[j] not in ['Data analyst or scientist', 'Web developer', 'Mobile developer', 'Student', 'Other']:\n",
    "            del_num.append(j)\n",
    "    for k in del_num:\n",
    "        typ[k] = 'Other'\n",
    "    for l in list(set(typ)):\n",
    "        dev_count2018[l] += 1\n",
    "        \n",
    "occ2018 = pd.DataFrame.from_dict(dev_count2018, orient = 'index', columns = ['col'])\n",
    "occ2018.sort_values(by = ['col'], ascending = False,  inplace = True)\n",
    "occ2018['2018ratio'] = occ2018.col / len(sr2018.DevType.dropna())\n",
    "occ2018.drop('col', axis = 1, inplace = True)"
   ]
  },
  {
   "cell_type": "code",
   "execution_count": 40,
   "metadata": {},
   "outputs": [
    {
     "name": "stderr",
     "output_type": "stream",
     "text": [
      "E:\\Program Files\\Anaconda3\\lib\\site-packages\\pandas\\core\\frame.py:6359: FutureWarning: Sorting because non-concatenation axis is not aligned. A future version\n",
      "of pandas will change to not sort by default.\n",
      "\n",
      "To accept the future behavior, pass 'sort=True'.\n",
      "\n",
      "To retain the current behavior and silence the warning, pass sort=False\n",
      "\n",
      "  verify_integrity=True)\n"
     ]
    },
    {
     "data": {
      "image/png": "[encoded data removed]",
      "text/plain": [
       "<Figure size 1080x288 with 5 Axes>"
      ]
     },
     "metadata": {},
     "output_type": "display_data"
    }
   ],
   "source": [
    "# Merge occupation data into dataframe\n",
    "\n",
    "occ_compare = occ2014.join([occ2015, occ2016, occ2017, occ2018], how = 'outer', sort = False)\n",
    "occ_compare.columns = ['2014', '2015', '2016', '2017', '2018']\n",
    "occ_compare.fillna(0, inplace = True)\n",
    "occ_compare = occ_compare.T\n",
    "occ_compare = occ_compare[['Web developer', 'Mobile developer', 'Data analyst or scientist', 'Other', 'Student']]\n",
    "\n",
    "# Plot the line chart of each occupation \n",
    "col = occ_compare.columns\n",
    "x = occ_compare.index\n",
    "\n",
    "fig, (ax1, ax2, ax3, ax4, ax5) = plt.subplots(1, 5, figsize = [15, 4], sharey = True)\n",
    "y = [ax1, ax2, ax3, ax4, ax5]\n",
    "\n",
    "for i in range(5):\n",
    "    y[i].bar(range(5), occ_compare.iloc[:, i], width = 0.5)\n",
    "    y[i].set_xticks(range(5))\n",
    "    y[i].set_xticklabels(x)\n",
    "    y[i].set_xlabel(col[i])\n",
    "    for j in range(5):\n",
    "        y[i].text(j-0.35, occ_compare.iloc[j, i]+0.005, '{:0.2f}'.format(occ_compare.iloc[j, i]))\n",
    "fig.suptitle('Percentage of Occupation in Stackflow Survey')\n",
    "plt.subplots_adjust(left=0.1, right=0.9, top=0.9, bottom=0.1, wspace = 0.1)\n",
    "plt.savefig('./fig/PercentOcc')"
   ]
  },
  {
   "cell_type": "markdown",
   "metadata": {},
   "source": [
    "#### Plot description\n",
    "- All data will be higher in 2017 and 2018 since they allow multiple choices in occupation\n",
    "- The web developer percentage is incredibly increased since 42% in 2014 to almost 70% in 2018\n",
    "- Moible developer percentage has been doubled in from 2014 to 2018\n",
    "- Data related job first start in 2015 survey and has been doubled from 2014 to 2018\n",
    "- Other occupation (most typical IT developer occupation) was influenced by single option survey in 2015 and 2016, which means they are no longer the main job duties for these developer\n",
    "- If any people want to start it IT career, the best entrance is to become web developer"
   ]
  },
  {
   "cell_type": "markdown",
   "metadata": {},
   "source": [
    "### 7. What is the trend of language in the survey for referrence?\n",
    "\n",
    "There is two related questions in each year survey.\n",
    "\n",
    "One is what's the most used language and the other is what's the language the respondent want to learn/use\n",
    "\n",
    "Both questions will be studied. For the first question, it will be useful for people who is not a developer but want to become, to know what kind of language is most useful in today's work place. The other question is more useful to people who is already a developer or someone who has the capability to learn more.\n",
    "\n",
    "Only 2016 to 2018 data will be included. The reason has been mentioned at the start of the project. In 2014 and 2015 survey, the question of the language has been split into muliple yes or no question about a single language. So to count the usage of language, all related columns needed analysis. Their results would need to be combined. Beside that, the technology is changing so rapidly in IT industry. So there is not very necessary to study the language trend 4 or 5 years ago."
   ]
  },
  {
   "cell_type": "code",
   "execution_count": 45,
   "metadata": {},
   "outputs": [],
   "source": [
    "worked_lang_2017 = defaultdict(int) \n",
    "for i in sr2017['HaveWorkedLanguage'].dropna():\n",
    "    lang = i.split('; ')\n",
    "    for j in lang:\n",
    "        worked_lang_2017[j] += 1\n",
    "\n",
    "worked_lang_2017\n",
    "w_lan_2017 = pd.DataFrame.from_dict(worked_lang_2017, orient = 'index', columns = ['col'])\n",
    "w_lan_2017.sort_values(by = ['col'], ascending = False,  inplace = True)\n",
    "w_lan_2017['2017'] = w_lan_2017.col / len(sr2017['HaveWorkedLanguage'].dropna())\n",
    "w_lan_2017.drop('col', axis = 1, inplace = True)"
   ]
  },
  {
   "cell_type": "code",
   "execution_count": 46,
   "metadata": {},
   "outputs": [],
   "source": [
    "# The language data in 2016 survey is confusing for it contains multiple options include platform, operation system\n",
    "# So the 2016 language roaster is filtered by 2017 to keep only language option within it\n",
    "worked_lang_2016 = defaultdict(int) \n",
    "for i in sr2016.tech_do.dropna():\n",
    "    lang = i.split('; ')\n",
    "    for j in lang:\n",
    "        worked_lang_2016[j] += 1\n",
    "\n",
    "worked_lang_2016\n",
    "w_lan_2016 = pd.DataFrame.from_dict(worked_lang_2016, orient = 'index', columns = ['col'])\n",
    "w_lan_2016.sort_values(by = ['col'], ascending = False,  inplace = True)\n",
    "w_lan_2016['2016'] = w_lan_2016.col / len(sr2016.tech_do.dropna())\n",
    "w_lan_2016.drop('col', axis = 1, inplace = True)\n",
    "\n",
    "for i in w_lan_2016.index:\n",
    "    if i not in w_lan_2017.index:\n",
    "        w_lan_2016.drop(i, inplace=True)"
   ]
  },
  {
   "cell_type": "code",
   "execution_count": 47,
   "metadata": {},
   "outputs": [],
   "source": [
    "worked_lang_2018 = defaultdict(int) \n",
    "for i in sr2018['LanguageWorkedWith'].dropna():\n",
    "    lang = i.split(';')\n",
    "    for j in lang:\n",
    "        worked_lang_2018[j] += 1\n",
    "\n",
    "worked_lang_2018\n",
    "w_lan_2018 = pd.DataFrame.from_dict(worked_lang_2018, orient = 'index', columns = ['col'])\n",
    "w_lan_2018.sort_values(by = ['col'], ascending = False,  inplace = True)\n",
    "w_lan_2018['2018'] = w_lan_2018.col / len(sr2018['LanguageWorkedWith'].dropna())\n",
    "w_lan_2018.drop('col', axis = 1, inplace = True)"
   ]
  },
  {
   "cell_type": "code",
   "execution_count": null,
   "metadata": {
    "scrolled": true
   },
   "outputs": [],
   "source": [
    "#Merge above dataframe\n",
    "w_lan = w_lan_2016[:10].join([w_lan_2017[:10], w_lan_2018[:10]], how = 'outer')\n",
    "w_lan = w_lan.T\n",
    "w_lan"
   ]
  },
  {
   "cell_type": "code",
   "execution_count": null,
   "metadata": {},
   "outputs": [],
   "source": [
    "w_lan.loc['2018', 'C']"
   ]
  },
  {
   "cell_type": "code",
   "execution_count": null,
   "metadata": {},
   "outputs": [],
   "source": [
    "plt.figure(figsize = [6, 8])\n",
    "for i in w_lan.columns:\n",
    "    plt.plot(range(3), w_lan[i], ls = '--', marker = 'o')\n",
    "    plt.xticks(range(3), w_lan.index)\n",
    "    texts = []\n",
    "    if w_lan.loc['2018',i] >0:\n",
    "        texts.append(plt.text(2.03, w_lan.loc['2018',i], '{lan}'.format(lan = i)))\n",
    "    elif w_lan.loc['2017',i] >0:\n",
    "        texts.append(plt.text(1.03, w_lan.loc['2017',i], '{lan}'.format(lan = i)))\n",
    "    else:\n",
    "        texts.append(plt.text(0.03, w_lan.loc['2016',i], '{lan}'.format(lan = i)))\n",
    "adjust_text(texts)\n",
    "plt.margins(x = 0.25)\n",
    "plt.ylabel('Percentage of language respondent have used')\n",
    "plt.title('Language Used')\n",
    "plt.legend(loc = 6, bbox_to_anchor = (1, 0.5))\n",
    "plt.savefig('./fig/lan_used')"
   ]
  },
  {
   "cell_type": "code",
   "execution_count": null,
   "metadata": {
    "collapsed": true
   },
   "outputs": [],
   "source": [
    "desire_lang_2017 = defaultdict(int) \n",
    "for i in sr2017['WantWorkLanguage'].dropna():\n",
    "    lang = i.split('; ')\n",
    "    for j in lang:\n",
    "        desire_lang_2017[j] += 1\n",
    "\n",
    "d_lan_2017 = pd.DataFrame.from_dict(desire_lang_2017, orient = 'index', columns = ['col'])\n",
    "d_lan_2017.sort_values(by = ['col'], ascending = False,  inplace = True)\n",
    "d_lan_2017['2017'] = d_lan_2017.col / len(sr2017['WantWorkLanguage'].dropna())\n",
    "d_lan_2017.drop('col', axis = 1, inplace = True)"
   ]
  },
  {
   "cell_type": "code",
   "execution_count": null,
   "metadata": {
    "collapsed": true
   },
   "outputs": [],
   "source": [
    "desire_lang_2018 = defaultdict(int) \n",
    "for i in sr2018['LanguageDesireNextYear'].dropna():\n",
    "    lang = i.split(';')\n",
    "    for j in lang:\n",
    "        desire_lang_2018[j] += 1\n",
    "\n",
    "\n",
    "d_lan_2018 = pd.DataFrame.from_dict(desire_lang_2018, orient = 'index', columns = ['col'])\n",
    "d_lan_2018.sort_values(by = ['col'], ascending = False,  inplace = True)\n",
    "d_lan_2018['2018'] = d_lan_2018.col / len(sr2018['LanguageDesireNextYear'].dropna())\n",
    "d_lan_2018.drop('col', axis = 1, inplace = True)"
   ]
  },
  {
   "cell_type": "code",
   "execution_count": null,
   "metadata": {
    "collapsed": true
   },
   "outputs": [],
   "source": [
    "desire_lang_2016 = defaultdict(int) \n",
    "for i in sr2016.tech_want.dropna():\n",
    "    lang = i.split('; ')\n",
    "    for j in lang:\n",
    "        desire_lang_2016[j] += 1\n",
    "\n",
    "d_lan_2016 = pd.DataFrame.from_dict(desire_lang_2016, orient = 'index', columns = ['col'])\n",
    "d_lan_2016.sort_values(by = ['col'], ascending = False,  inplace = True)\n",
    "d_lan_2016['2016'] = d_lan_2016.col / len(sr2016.tech_want.dropna())\n",
    "d_lan_2016.drop('col', axis = 1, inplace = True)\n",
    "\n",
    "for i in d_lan_2016.index:\n",
    "    if i not in d_lan_2017.index:\n",
    "        d_lan_2016.drop(i, inplace=True)"
   ]
  },
  {
   "cell_type": "code",
   "execution_count": 15,
   "metadata": {},
   "outputs": [
    {
     "ename": "NameError",
     "evalue": "name 'd_lan_2016' is not defined",
     "output_type": "error",
     "traceback": [
      "\u001b[1;31m---------------------------------------------------------------------------\u001b[0m",
      "\u001b[1;31mNameError\u001b[0m                                 Traceback (most recent call last)",
      "\u001b[1;32m<ipython-input-15-640cca0e95ee>\u001b[0m in \u001b[0;36m<module>\u001b[1;34m()\u001b[0m\n\u001b[0;32m      1\u001b[0m \u001b[1;31m#Merge above dataframe\u001b[0m\u001b[1;33m\u001b[0m\u001b[1;33m\u001b[0m\u001b[0m\n\u001b[1;32m----> 2\u001b[1;33m \u001b[0md_lan\u001b[0m \u001b[1;33m=\u001b[0m \u001b[0md_lan_2016\u001b[0m\u001b[1;33m[\u001b[0m\u001b[1;33m:\u001b[0m\u001b[1;36m10\u001b[0m\u001b[1;33m]\u001b[0m\u001b[1;33m.\u001b[0m\u001b[0mjoin\u001b[0m\u001b[1;33m(\u001b[0m\u001b[1;33m[\u001b[0m\u001b[0md_lan_2017\u001b[0m\u001b[1;33m[\u001b[0m\u001b[1;33m:\u001b[0m\u001b[1;36m10\u001b[0m\u001b[1;33m]\u001b[0m\u001b[1;33m,\u001b[0m \u001b[0md_lan_2018\u001b[0m\u001b[1;33m[\u001b[0m\u001b[1;33m:\u001b[0m\u001b[1;36m10\u001b[0m\u001b[1;33m]\u001b[0m\u001b[1;33m]\u001b[0m\u001b[1;33m,\u001b[0m \u001b[0mhow\u001b[0m \u001b[1;33m=\u001b[0m \u001b[1;34m'outer'\u001b[0m\u001b[1;33m)\u001b[0m\u001b[1;33m\u001b[0m\u001b[0m\n\u001b[0m\u001b[0;32m      3\u001b[0m \u001b[0md_lan\u001b[0m \u001b[1;33m=\u001b[0m \u001b[0md_lan\u001b[0m\u001b[1;33m.\u001b[0m\u001b[0mT\u001b[0m\u001b[1;33m\u001b[0m\u001b[0m\n\u001b[0;32m      4\u001b[0m \u001b[0md_lan\u001b[0m\u001b[1;33m\u001b[0m\u001b[0m\n",
      "\u001b[1;31mNameError\u001b[0m: name 'd_lan_2016' is not defined"
     ]
    }
   ],
   "source": [
    "#Merge above dataframe\n",
    "d_lan = d_lan_2016[:10].join([d_lan_2017[:10], d_lan_2018[:10]], how = 'outer')\n",
    "d_lan = d_lan.T\n",
    "d_lan"
   ]
  },
  {
   "cell_type": "code",
   "execution_count": 16,
   "metadata": {},
   "outputs": [
    {
     "ename": "NameError",
     "evalue": "name 'd_lan' is not defined",
     "output_type": "error",
     "traceback": [
      "\u001b[1;31m---------------------------------------------------------------------------\u001b[0m",
      "\u001b[1;31mNameError\u001b[0m                                 Traceback (most recent call last)",
      "\u001b[1;32m<ipython-input-16-4ad77b5712dd>\u001b[0m in \u001b[0;36m<module>\u001b[1;34m()\u001b[0m\n\u001b[0;32m      1\u001b[0m \u001b[0mplt\u001b[0m\u001b[1;33m.\u001b[0m\u001b[0mfigure\u001b[0m\u001b[1;33m(\u001b[0m\u001b[0mfigsize\u001b[0m \u001b[1;33m=\u001b[0m \u001b[1;33m[\u001b[0m\u001b[1;36m6\u001b[0m\u001b[1;33m,\u001b[0m \u001b[1;36m8\u001b[0m\u001b[1;33m]\u001b[0m\u001b[1;33m)\u001b[0m\u001b[1;33m\u001b[0m\u001b[0m\n\u001b[1;32m----> 2\u001b[1;33m \u001b[1;32mfor\u001b[0m \u001b[0mi\u001b[0m \u001b[1;32min\u001b[0m \u001b[0md_lan\u001b[0m\u001b[1;33m.\u001b[0m\u001b[0mcolumns\u001b[0m\u001b[1;33m:\u001b[0m\u001b[1;33m\u001b[0m\u001b[0m\n\u001b[0m\u001b[0;32m      3\u001b[0m     \u001b[0mplt\u001b[0m\u001b[1;33m.\u001b[0m\u001b[0mplot\u001b[0m\u001b[1;33m(\u001b[0m\u001b[0mrange\u001b[0m\u001b[1;33m(\u001b[0m\u001b[1;36m3\u001b[0m\u001b[1;33m)\u001b[0m\u001b[1;33m,\u001b[0m \u001b[0md_lan\u001b[0m\u001b[1;33m[\u001b[0m\u001b[0mi\u001b[0m\u001b[1;33m]\u001b[0m\u001b[1;33m,\u001b[0m \u001b[0mls\u001b[0m \u001b[1;33m=\u001b[0m \u001b[1;34m'--'\u001b[0m\u001b[1;33m,\u001b[0m \u001b[0mmarker\u001b[0m \u001b[1;33m=\u001b[0m \u001b[1;34m'*'\u001b[0m\u001b[1;33m)\u001b[0m\u001b[1;33m\u001b[0m\u001b[0m\n\u001b[0;32m      4\u001b[0m     \u001b[0mplt\u001b[0m\u001b[1;33m.\u001b[0m\u001b[0mxticks\u001b[0m\u001b[1;33m(\u001b[0m\u001b[0mrange\u001b[0m\u001b[1;33m(\u001b[0m\u001b[1;36m3\u001b[0m\u001b[1;33m)\u001b[0m\u001b[1;33m,\u001b[0m \u001b[0md_lan\u001b[0m\u001b[1;33m.\u001b[0m\u001b[0mindex\u001b[0m\u001b[1;33m)\u001b[0m\u001b[1;33m\u001b[0m\u001b[0m\n\u001b[0;32m      5\u001b[0m     \u001b[0mtexts\u001b[0m \u001b[1;33m=\u001b[0m \u001b[1;33m[\u001b[0m\u001b[1;33m]\u001b[0m\u001b[1;33m\u001b[0m\u001b[0m\n",
      "\u001b[1;31mNameError\u001b[0m: name 'd_lan' is not defined"
     ]
    },
    {
     "data": {
      "text/plain": [
       "<matplotlib.figure.Figure at 0x203d8003828>"
      ]
     },
     "metadata": {},
     "output_type": "display_data"
    }
   ],
   "source": [
    "plt.figure(figsize = [6, 8])\n",
    "for i in d_lan.columns:\n",
    "    plt.plot(range(3), d_lan[i], ls = '--', marker = '*')\n",
    "    plt.xticks(range(3), d_lan.index)\n",
    "    texts = []\n",
    "    if d_lan.loc['2018',i] >0:\n",
    "        texts.append(plt.text(2.03, d_lan.loc['2018',i], '{lan}'.format(lan = i)))\n",
    "    elif d_lan.loc['2017',i] >0:\n",
    "        texts.append(plt.text(1.03, d_lan.loc['2017',i], '{lan}'.format(lan = i)))\n",
    "    else:\n",
    "        texts.append(plt.text(0.03, d_lan.loc['2016',i], '{lan}'.format(lan = i)))\n",
    "adjust_text(texts)\n",
    "plt.margins(x = 0.25)\n",
    "plt.ylabel('Percentage of language respondent want to use')\n",
    "plt.title('Language Want')\n",
    "plt.legend(loc = 6, bbox_to_anchor = (1, 0.5))\n",
    "plt.savefig('./fig/lan_want')"
   ]
  }
 ],
 "metadata": {
  "kernelspec": {
   "display_name": "Python 3",
   "language": "python",
   "name": "python3"
  },
  "language_info": {
   "codemirror_mode": {
    "name": "ipython",
    "version": 3
   },
   "file_extension": ".py",
   "mimetype": "text/x-python",
   "name": "python",
   "nbconvert_exporter": "python",
   "pygments_lexer": "ipython3",
   "version": "3.6.5"
  }
 },
 "nbformat": 4,
 "nbformat_minor": 2
}
